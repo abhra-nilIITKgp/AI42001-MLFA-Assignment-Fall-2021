{
  "nbformat": 4,
  "nbformat_minor": 0,
  "metadata": {
    "kernelspec": {
      "display_name": "Python 3",
      "language": "python",
      "name": "python3"
    },
    "language_info": {
      "codemirror_mode": {
        "name": "ipython",
        "version": 3
      },
      "file_extension": ".py",
      "mimetype": "text/x-python",
      "name": "python",
      "nbconvert_exporter": "python",
      "pygments_lexer": "ipython3",
      "version": "3.7.6"
    },
    "colab": {
      "name": "Data Representations.ipynb",
      "provenance": [],
      "collapsed_sections": []
    }
  },
  "cells": [
    {
      "cell_type": "markdown",
      "metadata": {
        "id": "fgHog9hHsMh6"
      },
      "source": [
        "# Introduction to Python"
      ]
    },
    {
      "cell_type": "markdown",
      "metadata": {
        "id": "msFQYmbes_zk"
      },
      "source": [
        "There are four collection data types in the Python programming language:\n",
        "1. List : ordered and changeable. Allows duplicate members.\n",
        "2. Tuple : ordered and unchangeable. Allows duplicate members.\n",
        "3. Set : unordered and changeable. No duplicate members.\n",
        "4. Dictionary: unordered, changeable. No duplicate members."
      ]
    },
    {
      "cell_type": "markdown",
      "metadata": {
        "id": "UVCKy04CsMh9"
      },
      "source": [
        "### List \n",
        "\n",
        "List is a collection which is ordered and changeable. Allows duplicate members."
      ]
    },
    {
      "cell_type": "code",
      "metadata": {
        "id": "C2xy4wXNsMh-",
        "colab": {
          "base_uri": "https://localhost:8080/"
        },
        "outputId": "f4e63fbb-1edf-4ef9-c902-fae943d7aeff"
      },
      "source": [
        "#creating a list\n",
        "\n",
        "thislist = [\"apple\", \"banana\", \"cherry\"]\n",
        "print(thislist)"
      ],
      "execution_count": null,
      "outputs": [
        {
          "output_type": "stream",
          "text": [
            "['apple', 'banana', 'cherry']\n"
          ],
          "name": "stdout"
        }
      ]
    },
    {
      "cell_type": "code",
      "metadata": {
        "id": "rKa_jMjRsMh_",
        "colab": {
          "base_uri": "https://localhost:8080/"
        },
        "outputId": "aecdb09d-b267-4078-8717-7c03fc04334e"
      },
      "source": [
        "#Access items \n",
        "thislist = [\"apple\", \"banana\", \"cherry\"]\n",
        "print(thislist[1])"
      ],
      "execution_count": null,
      "outputs": [
        {
          "output_type": "stream",
          "text": [
            "banana\n"
          ],
          "name": "stdout"
        }
      ]
    },
    {
      "cell_type": "code",
      "metadata": {
        "id": "9eMbZ_kjsMh_",
        "colab": {
          "base_uri": "https://localhost:8080/"
        },
        "outputId": "97a34eed-7905-4a66-9abc-ad00e100e81e"
      },
      "source": [
        "thislist = [\"apple\", \"banana\", \"cherry\"]\n",
        "print(thislist[-1])"
      ],
      "execution_count": null,
      "outputs": [
        {
          "output_type": "stream",
          "text": [
            "cherry\n"
          ],
          "name": "stdout"
        }
      ]
    },
    {
      "cell_type": "code",
      "metadata": {
        "id": "Tq7RsZOasMh_",
        "colab": {
          "base_uri": "https://localhost:8080/"
        },
        "outputId": "b273524d-ce1b-4493-b382-c1ec30710ff6"
      },
      "source": [
        "thislist = [\"apple\", \"banana\", \"cherry\", \"orange\", \"kiwi\", \"melon\", \"mango\"]\n",
        "print(thislist[2:5])     # slicing"
      ],
      "execution_count": null,
      "outputs": [
        {
          "output_type": "stream",
          "text": [
            "['cherry', 'orange', 'kiwi']\n"
          ],
          "name": "stdout"
        }
      ]
    },
    {
      "cell_type": "code",
      "metadata": {
        "id": "QAsrqlInsMiA",
        "colab": {
          "base_uri": "https://localhost:8080/"
        },
        "outputId": "a9583371-7f2f-4f0b-dc57-aa846b4d44c7"
      },
      "source": [
        "thislist = [\"apple\", \"banana\", \"cherry\", \"orange\", \"kiwi\", \"melon\", \"mango\"]\n",
        "print(thislist[:4])"
      ],
      "execution_count": null,
      "outputs": [
        {
          "output_type": "stream",
          "text": [
            "['apple', 'banana', 'cherry', 'orange']\n"
          ],
          "name": "stdout"
        }
      ]
    },
    {
      "cell_type": "code",
      "metadata": {
        "id": "TdPXRLI7sMiB",
        "colab": {
          "base_uri": "https://localhost:8080/"
        },
        "outputId": "a3980337-0f66-450d-d6f9-bb9e118b2f8d"
      },
      "source": [
        "#Loop Through a List\n",
        "\n",
        "thislist = [\"apple\", \"banana\", \"cherry\"]\n",
        "for x in thislist:\n",
        "    print(x)"
      ],
      "execution_count": null,
      "outputs": [
        {
          "output_type": "stream",
          "text": [
            "apple\n",
            "banana\n",
            "cherry\n"
          ],
          "name": "stdout"
        }
      ]
    },
    {
      "cell_type": "code",
      "metadata": {
        "id": "bTfppsFtsMiC",
        "colab": {
          "base_uri": "https://localhost:8080/"
        },
        "outputId": "3791333c-9ea4-42f7-d1e3-449b1fa25d6d"
      },
      "source": [
        "#length of list\n",
        "\n",
        "thislist = [\"apple\", \"banana\", \"cherry\"]\n",
        "print(len(thislist))"
      ],
      "execution_count": null,
      "outputs": [
        {
          "output_type": "stream",
          "text": [
            "3\n"
          ],
          "name": "stdout"
        }
      ]
    },
    {
      "cell_type": "code",
      "metadata": {
        "id": "kDrMsp8FsMiC",
        "colab": {
          "base_uri": "https://localhost:8080/"
        },
        "outputId": "c1333d97-8875-4906-e228-d18ec9563d38"
      },
      "source": [
        "#add item in the list using append() method.\n",
        "\n",
        "thislist = [\"apple\", \"banana\", \"cherry\"]\n",
        "thislist.append(\"orange\")\n",
        "print(thislist)"
      ],
      "execution_count": null,
      "outputs": [
        {
          "output_type": "stream",
          "text": [
            "['apple', 'banana', 'cherry', 'orange']\n"
          ],
          "name": "stdout"
        }
      ]
    },
    {
      "cell_type": "code",
      "metadata": {
        "id": "Rq7VHiqGsMiD",
        "colab": {
          "base_uri": "https://localhost:8080/"
        },
        "outputId": "31df8ded-8407-45dd-c392-9f338f86e678"
      },
      "source": [
        "#add item in the list using insert() method at specified location.\n",
        "\n",
        "\n",
        "thislist = [\"apple\", \"banana\", \"cherry\"]\n",
        "thislist.insert(1, \"orange\")\n",
        "print(thislist)"
      ],
      "execution_count": null,
      "outputs": [
        {
          "output_type": "stream",
          "text": [
            "['apple', 'orange', 'banana', 'cherry']\n"
          ],
          "name": "stdout"
        }
      ]
    },
    {
      "cell_type": "code",
      "metadata": {
        "id": "ReLOIeUUsMiD",
        "colab": {
          "base_uri": "https://localhost:8080/"
        },
        "outputId": "2e6b042c-8236-4906-8979-bf5115c4aa39"
      },
      "source": [
        "#remove item from list.\n",
        "\n",
        "thislist = [\"apple\", \"banana\", \"cherry\"]\n",
        "thislist.remove(\"banana\")\n",
        "print(thislist)"
      ],
      "execution_count": null,
      "outputs": [
        {
          "output_type": "stream",
          "text": [
            "['apple', 'cherry']\n"
          ],
          "name": "stdout"
        }
      ]
    },
    {
      "cell_type": "code",
      "metadata": {
        "id": "kuwwUXxOsMiE",
        "colab": {
          "base_uri": "https://localhost:8080/"
        },
        "outputId": "949de984-7df9-4c49-e5a1-0c863c7b0db0"
      },
      "source": [
        "#remove item from specified location in list.\n",
        "\n",
        "thislist = [\"apple\", \"banana\", \"cherry\"]\n",
        "thislist.pop()\n",
        "#thislist.pop(1)\n",
        "print(thislist)"
      ],
      "execution_count": null,
      "outputs": [
        {
          "output_type": "stream",
          "text": [
            "['apple', 'banana']\n"
          ],
          "name": "stdout"
        }
      ]
    },
    {
      "cell_type": "code",
      "metadata": {
        "id": "jySgNCkdsMiE",
        "colab": {
          "base_uri": "https://localhost:8080/"
        },
        "outputId": "4e3d568f-5d6d-42f9-e3a1-119b18a89ea5"
      },
      "source": [
        "#clear method make list empty.\n",
        "\n",
        "thislist = [\"apple\", \"banana\", \"cherry\"]\n",
        "thislist.clear()\n",
        "print(thislist)"
      ],
      "execution_count": null,
      "outputs": [
        {
          "output_type": "stream",
          "text": [
            "[]\n"
          ],
          "name": "stdout"
        }
      ]
    },
    {
      "cell_type": "code",
      "metadata": {
        "id": "SJPyg4T-sMiE",
        "colab": {
          "base_uri": "https://localhost:8080/"
        },
        "outputId": "f781c24c-0b15-43db-b06a-e1118cc2823e"
      },
      "source": [
        "#copy a list\n",
        "thislist = [\"apple\", \"banana\", \"cherry\"]\n",
        "mylist = thislist.copy()\n",
        "print(mylist)"
      ],
      "execution_count": null,
      "outputs": [
        {
          "output_type": "stream",
          "text": [
            "['apple', 'banana', 'cherry']\n"
          ],
          "name": "stdout"
        }
      ]
    },
    {
      "cell_type": "code",
      "metadata": {
        "id": "5NwnVvCesMiE",
        "colab": {
          "base_uri": "https://localhost:8080/"
        },
        "outputId": "6362a1f2-f153-4b3e-9165-eefcd24d3350"
      },
      "source": [
        "#join 2 list.\n",
        "\n",
        "list1 = [\"a\", \"b\" , \"c\"]\n",
        "list2 = [1, 2, 3]\n",
        "\n",
        "list3 = list1 + list2\n",
        "print(list3)"
      ],
      "execution_count": null,
      "outputs": [
        {
          "output_type": "stream",
          "text": [
            "['a', 'b', 'c', 1, 2, 3]\n"
          ],
          "name": "stdout"
        }
      ]
    },
    {
      "cell_type": "code",
      "metadata": {
        "id": "4hCj-rYjsMiF",
        "colab": {
          "base_uri": "https://localhost:8080/"
        },
        "outputId": "bf28240e-5e4c-4212-a7e8-931dac2994a7"
      },
      "source": [
        "#list() constructor to make a new list. Here it creates a list from a tuple.\n",
        "\n",
        "thislist = list((\"apple\", \"banana\", \"cherry\")) # note the double round-brackets\n",
        "print(thislist)"
      ],
      "execution_count": null,
      "outputs": [
        {
          "output_type": "stream",
          "text": [
            "['apple', 'banana', 'cherry']\n"
          ],
          "name": "stdout"
        }
      ]
    },
    {
      "cell_type": "markdown",
      "metadata": {
        "id": "9O5YGUPxsMiF"
      },
      "source": [
        "Other built-in methods..\n",
        "\n",
        "* append() Adds an element at the end of the list\n",
        "* count()\t Returns the number of elements with the specified value\n",
        "* index()\t Returns the index of the first element with the specified value\n",
        "* insert() Adds an element at the specified position\n",
        "* pop()\t Removes the element at the specified position\n",
        "* remove() Removes the item with the specified value\n",
        "* reverse() Reverses the order of the list\n",
        "* sort()    Sort the elements"
      ]
    },
    {
      "cell_type": "code",
      "metadata": {
        "scrolled": true,
        "id": "mRS8PFInsMiF",
        "colab": {
          "base_uri": "https://localhost:8080/"
        },
        "outputId": "8c9339a5-bcbc-4a43-f8b9-0dc7dae079af"
      },
      "source": [
        "fruits = ['orange', 'apple', 'pear', 'banana', 'kiwi', 'apple', 'banana']\n",
        "\n",
        "#print(fruits.count('apple'))\n",
        "\n",
        "#print(fruits.index('banana'))\n",
        "\n",
        "#print(fruits.index('banana', 4))  # Find next banana starting a position 4\n",
        "\n",
        "#fruits.reverse()\n",
        "\n",
        "#fruits.append('grape')\n",
        "\n",
        "#fruits.sort()\n",
        "\n",
        "#fruits.pop()\n",
        "\n",
        "print(fruits)"
      ],
      "execution_count": null,
      "outputs": [
        {
          "output_type": "stream",
          "text": [
            "['orange', 'apple', 'pear', 'banana', 'kiwi', 'apple']\n"
          ],
          "name": "stdout"
        }
      ]
    },
    {
      "cell_type": "markdown",
      "metadata": {
        "id": "FcEAAGBmsMiF"
      },
      "source": [
        "### Tuple\n",
        "A tuple is a collection which is ordered and unchangeable. In Python tuples are written with round brackets."
      ]
    },
    {
      "cell_type": "code",
      "metadata": {
        "id": "rgZz9w1RsMiF",
        "colab": {
          "base_uri": "https://localhost:8080/"
        },
        "outputId": "c07e13b3-10af-4b04-b1de-56e7eaa6ec58"
      },
      "source": [
        "#create tuple\n",
        "thistuple = (\"apple\", \"banana\", \"cherry\")\n",
        "print(thistuple)"
      ],
      "execution_count": null,
      "outputs": [
        {
          "output_type": "stream",
          "text": [
            "('apple', 'banana', 'cherry')\n"
          ],
          "name": "stdout"
        }
      ]
    },
    {
      "cell_type": "code",
      "metadata": {
        "id": "En8ps4nrsMiG",
        "colab": {
          "base_uri": "https://localhost:8080/"
        },
        "outputId": "e49b2de8-185a-4c87-e2e0-6321f1bc1931"
      },
      "source": [
        "#access tuple items\n",
        "thistuple = (\"apple\", \"banana\", \"cherry\")\n",
        "print(thistuple[1])"
      ],
      "execution_count": null,
      "outputs": [
        {
          "output_type": "stream",
          "text": [
            "banana\n"
          ],
          "name": "stdout"
        }
      ]
    },
    {
      "cell_type": "code",
      "metadata": {
        "id": "N6XgjE4osMiG",
        "colab": {
          "base_uri": "https://localhost:8080/"
        },
        "outputId": "2deae00c-ca93-4c6e-9015-a140d70d6516"
      },
      "source": [
        "thistuple = (\"apple\", \"banana\", \"cherry\", \"orange\", \"kiwi\", \"melon\", \"mango\")\n",
        "print(thistuple[2:5])"
      ],
      "execution_count": null,
      "outputs": [
        {
          "output_type": "stream",
          "text": [
            "('cherry', 'orange', 'kiwi')\n"
          ],
          "name": "stdout"
        }
      ]
    },
    {
      "cell_type": "code",
      "metadata": {
        "id": "deIBgF9msMiG",
        "colab": {
          "base_uri": "https://localhost:8080/"
        },
        "outputId": "8c90abf2-5ab1-4469-961e-821217f417d5"
      },
      "source": [
        "#Loop throught a Tuple\n",
        "thistuple = (\"apple\", \"banana\", \"cherry\")\n",
        "for x in thistuple:\n",
        "    print(x)"
      ],
      "execution_count": null,
      "outputs": [
        {
          "output_type": "stream",
          "text": [
            "apple\n",
            "banana\n",
            "cherry\n"
          ],
          "name": "stdout"
        }
      ]
    },
    {
      "cell_type": "code",
      "metadata": {
        "id": "zKRo6YKcsMiG",
        "colab": {
          "base_uri": "https://localhost:8080/"
        },
        "outputId": "804d8de5-1111-4a12-9bcd-cc814fe6faad"
      },
      "source": [
        "#Tuple length\n",
        "thistuple = (\"apple\", \"banana\", \"cherry\")\n",
        "print(len(thistuple))"
      ],
      "execution_count": null,
      "outputs": [
        {
          "output_type": "stream",
          "text": [
            "3\n"
          ],
          "name": "stdout"
        }
      ]
    },
    {
      "cell_type": "code",
      "metadata": {
        "id": "_1p0LyhqsMiG",
        "colab": {
          "base_uri": "https://localhost:8080/",
          "height": 212
        },
        "outputId": "1893bf89-f8b8-4e81-aa77-c6dbd3815c11"
      },
      "source": [
        "#Add item in tuple.\n",
        "'''\n",
        "It will give you error. you can't add items in tuple because it is unchangeable.\n",
        "'''\n",
        "thistuple = (\"apple\", \"banana\", \"cherry\")\n",
        "thistuple[2] = \"orange\" # This will raise an error\n",
        "print(thistuple)"
      ],
      "execution_count": null,
      "outputs": [
        {
          "output_type": "error",
          "ename": "TypeError",
          "evalue": "ignored",
          "traceback": [
            "\u001b[0;31m---------------------------------------------------------------------------\u001b[0m",
            "\u001b[0;31mTypeError\u001b[0m                                 Traceback (most recent call last)",
            "\u001b[0;32m<ipython-input-32-a2fac1d1fc6c>\u001b[0m in \u001b[0;36m<module>\u001b[0;34m()\u001b[0m\n\u001b[1;32m      4\u001b[0m '''\n\u001b[1;32m      5\u001b[0m \u001b[0mthistuple\u001b[0m \u001b[0;34m=\u001b[0m \u001b[0;34m(\u001b[0m\u001b[0;34m\"apple\"\u001b[0m\u001b[0;34m,\u001b[0m \u001b[0;34m\"banana\"\u001b[0m\u001b[0;34m,\u001b[0m \u001b[0;34m\"cherry\"\u001b[0m\u001b[0;34m)\u001b[0m\u001b[0;34m\u001b[0m\u001b[0;34m\u001b[0m\u001b[0m\n\u001b[0;32m----> 6\u001b[0;31m \u001b[0mthistuple\u001b[0m\u001b[0;34m[\u001b[0m\u001b[0;36m2\u001b[0m\u001b[0;34m]\u001b[0m \u001b[0;34m=\u001b[0m \u001b[0;34m\"orange\"\u001b[0m \u001b[0;31m# This will raise an error\u001b[0m\u001b[0;34m\u001b[0m\u001b[0;34m\u001b[0m\u001b[0m\n\u001b[0m\u001b[1;32m      7\u001b[0m \u001b[0mprint\u001b[0m\u001b[0;34m(\u001b[0m\u001b[0mthistuple\u001b[0m\u001b[0;34m)\u001b[0m\u001b[0;34m\u001b[0m\u001b[0;34m\u001b[0m\u001b[0m\n",
            "\u001b[0;31mTypeError\u001b[0m: 'tuple' object does not support item assignment"
          ]
        }
      ]
    },
    {
      "cell_type": "code",
      "metadata": {
        "id": "mkO4b-XcsMiH",
        "colab": {
          "base_uri": "https://localhost:8080/"
        },
        "outputId": "70723091-58be-4ab0-b4b9-92f494fd350d"
      },
      "source": [
        "#join two tuple\n",
        "\n",
        "tuple1 = (\"a\", \"b\" , \"c\")\n",
        "tuple2 = (1, 2, 3)\n",
        "\n",
        "tuple3 = tuple1 + tuple2\n",
        "print(tuple3)\n"
      ],
      "execution_count": null,
      "outputs": [
        {
          "output_type": "stream",
          "text": [
            "('a', 'b', 'c', 1, 2, 3)\n"
          ],
          "name": "stdout"
        }
      ]
    },
    {
      "cell_type": "markdown",
      "metadata": {
        "id": "gmFsMcpVsMiH"
      },
      "source": [
        "### Set\n",
        "A set is a collection which is unordered and changeable. In Python sets are written with curly brackets."
      ]
    },
    {
      "cell_type": "code",
      "metadata": {
        "id": "qHWmf1S6sMiH",
        "colab": {
          "base_uri": "https://localhost:8080/"
        },
        "outputId": "fee8cc74-29fb-49c4-d7de-5851214a4798"
      },
      "source": [
        "#creating set\n",
        "\n",
        "thisset = {\"apple\", \"banana\", \"cherry\"}\n",
        "print(thisset)"
      ],
      "execution_count": null,
      "outputs": [
        {
          "output_type": "stream",
          "text": [
            "{'apple', 'cherry', 'banana'}\n"
          ],
          "name": "stdout"
        }
      ]
    },
    {
      "cell_type": "code",
      "metadata": {
        "id": "Z0pLU7sHsMiH",
        "colab": {
          "base_uri": "https://localhost:8080/"
        },
        "outputId": "e8bd051d-c250-48da-91fb-adad69a21cc3"
      },
      "source": [
        "#Access item in a set.\n",
        "'''\n",
        "You can't access item in a set by referring to an index, \n",
        "since sets are unordered the items has no index.\n",
        "'''\n",
        "thisset = {\"apple\", \"banana\", \"cherry\"}\n",
        "#print(thisset[0])\n",
        "for x in thisset:\n",
        "    print(x)\n"
      ],
      "execution_count": null,
      "outputs": [
        {
          "output_type": "stream",
          "text": [
            "apple\n",
            "cherry\n",
            "banana\n"
          ],
          "name": "stdout"
        }
      ]
    },
    {
      "cell_type": "code",
      "metadata": {
        "id": "L_II8RijsMiH",
        "colab": {
          "base_uri": "https://localhost:8080/"
        },
        "outputId": "4a88543c-edc5-4dfb-f031-dee04c97880e"
      },
      "source": [
        "#Chagne item add(), update() method.\n",
        "\n",
        "thisset = {\"apple\", \"banana\", \"cherry\"}\n",
        "\n",
        "thisset.add(\"orange\")\n",
        "#thisset.update([\"orange\", \"mango\", \"grapes\"])\n",
        "print(thisset)\n"
      ],
      "execution_count": null,
      "outputs": [
        {
          "output_type": "stream",
          "text": [
            "{'cherry', 'banana', 'grapes', 'apple', 'orange', 'mango'}\n"
          ],
          "name": "stdout"
        }
      ]
    },
    {
      "cell_type": "code",
      "metadata": {
        "id": "qF8QCAlesMiI",
        "colab": {
          "base_uri": "https://localhost:8080/"
        },
        "outputId": "fa0f5d6b-d8e2-4e3a-e5bf-bc053568656a"
      },
      "source": [
        "#remove item using remove() or discard() method.\n",
        "'''\n",
        "If the item to remove does not exist, remove() will raise an error.\n",
        "If the item to remove does not exist, discard() will NOT raise an error.\n",
        " \n",
        "'''\n",
        "\n",
        "thisset = {\"apple\", \"banana\", \"cherry\"}\n",
        "\n",
        "thisset.remove(\"banana\")\n",
        "#thisset.discard(\"banana\")\n",
        "\n",
        "print(thisset)\n"
      ],
      "execution_count": null,
      "outputs": [
        {
          "output_type": "stream",
          "text": [
            "{'apple', 'cherry'}\n"
          ],
          "name": "stdout"
        }
      ]
    },
    {
      "cell_type": "code",
      "metadata": {
        "id": "Os3yHywcsMiI",
        "colab": {
          "base_uri": "https://localhost:8080/"
        },
        "outputId": "5f59d7a7-a807-481a-f2f4-361bec29f6ce"
      },
      "source": [
        "#Join two sets using union() or update()\n",
        "'''\n",
        "union() method that returns a new set containing all items from both sets.\n",
        "update() method that inserts all the items from one set into another\n",
        "'''\n",
        "\n",
        "set1 = {\"a\", \"b\" , \"c\"}\n",
        "set2 = {1, 2, 3}\n",
        "\n",
        "set3 = set1.union(set2)\n",
        "\n",
        "#set1.update(set2)\n",
        "#print(set1)\n",
        "print(set3)\n"
      ],
      "execution_count": null,
      "outputs": [
        {
          "output_type": "stream",
          "text": [
            "{'c', 1, 2, 3, 'a', 'b'}\n",
            "{'c', 1, 2, 3, 'a', 'b'}\n"
          ],
          "name": "stdout"
        }
      ]
    },
    {
      "cell_type": "markdown",
      "metadata": {
        "id": "KuPfs5ArsMiI"
      },
      "source": [
        "# Dictionary"
      ]
    },
    {
      "cell_type": "raw",
      "metadata": {
        "id": "Xo2LmlB5sMiI"
      },
      "source": [
        "A dictionary is a collection which is unordered and changeable. \n",
        "In Python dictionaries are written with curly brackets, and they have keys and values.\n",
        "\n"
      ]
    },
    {
      "cell_type": "code",
      "metadata": {
        "id": "YADDofDWsMiI",
        "colab": {
          "base_uri": "https://localhost:8080/"
        },
        "outputId": "a7f58ba3-c5d6-4f56-b93f-3b3935ac86d8"
      },
      "source": [
        "\n",
        "# Create and print a dictionary:\n",
        "\n",
        "dict1 = {\n",
        "  \"1\": \"Ram\",\n",
        "  \"Gender\": \"Male\",\n",
        "  \"year\": 1998\n",
        "}\n",
        "print(dict1)"
      ],
      "execution_count": null,
      "outputs": [
        {
          "output_type": "stream",
          "text": [
            "{'1': 'Ram', 'Gender': 'Male', 'year': 1998}\n"
          ],
          "name": "stdout"
        }
      ]
    },
    {
      "cell_type": "code",
      "metadata": {
        "id": "FggI7yXDsMiI",
        "colab": {
          "base_uri": "https://localhost:8080/"
        },
        "outputId": "be8b59d6-e0f1-441d-de9b-7de1cea87803"
      },
      "source": [
        "dict2 = dict(name=\"Ford\", Gender=\"Male\", year=1964)\n",
        "dict2"
      ],
      "execution_count": null,
      "outputs": [
        {
          "output_type": "execute_result",
          "data": {
            "text/plain": [
              "{'Gender': 'Male', 'name': 'Ford', 'year': 1964}"
            ]
          },
          "metadata": {
            "tags": []
          },
          "execution_count": 71
        }
      ]
    },
    {
      "cell_type": "code",
      "metadata": {
        "id": "H2UAs75tsMiJ",
        "colab": {
          "base_uri": "https://localhost:8080/"
        },
        "outputId": "83e6545d-8076-4241-d11a-4360c2b0895a"
      },
      "source": [
        "#Accessing Items\n",
        "x = dict1[\"1\"]\n",
        "#x = dict1.get(\"year\")\n",
        "print(x)"
      ],
      "execution_count": null,
      "outputs": [
        {
          "output_type": "stream",
          "text": [
            "Ram\n"
          ],
          "name": "stdout"
        }
      ]
    },
    {
      "cell_type": "code",
      "metadata": {
        "id": "rcuSf8wnsMiJ",
        "colab": {
          "base_uri": "https://localhost:8080/"
        },
        "outputId": "84a5731c-3788-4269-e2d3-1df77814a4f2"
      },
      "source": [
        "# Change Values\n",
        "\n",
        "dict1[\"year\"] = 2020\n",
        "\n",
        "dict1"
      ],
      "execution_count": null,
      "outputs": [
        {
          "output_type": "execute_result",
          "data": {
            "text/plain": [
              "{'1': 'Ram', 'Gender': 'Male', 'year': 2020}"
            ]
          },
          "metadata": {
            "tags": []
          },
          "execution_count": 73
        }
      ]
    },
    {
      "cell_type": "code",
      "metadata": {
        "id": "OWhfvkNWsMiJ",
        "colab": {
          "base_uri": "https://localhost:8080/"
        },
        "outputId": "32e73051-4f7d-401b-d643-b8a35eb961e1"
      },
      "source": [
        "# Loop Through a Dictionary\n",
        "\n",
        "# Print all key names in the dictionary:\n",
        "\n",
        "for x in dict1:\n",
        "  print(x)"
      ],
      "execution_count": null,
      "outputs": [
        {
          "output_type": "stream",
          "text": [
            "1\n",
            "Gender\n",
            "year\n"
          ],
          "name": "stdout"
        }
      ]
    },
    {
      "cell_type": "code",
      "metadata": {
        "id": "Apqeas19sMiJ",
        "colab": {
          "base_uri": "https://localhost:8080/"
        },
        "outputId": "ea91860d-2caa-4a91-b4f3-9d91d31e7492"
      },
      "source": [
        "# Print all values in the dictionary, one by one:\n",
        "\n",
        "for x in dict1:\n",
        "  print(dict1[x])\n"
      ],
      "execution_count": null,
      "outputs": [
        {
          "output_type": "stream",
          "text": [
            "Ram\n",
            "Male\n",
            "2020\n"
          ],
          "name": "stdout"
        }
      ]
    },
    {
      "cell_type": "code",
      "metadata": {
        "id": "pIaimI2usMiJ",
        "colab": {
          "base_uri": "https://localhost:8080/"
        },
        "outputId": "2f394edd-cddc-49f9-afda-2a875a5df891"
      },
      "source": [
        "# print both key and value\n",
        "\n",
        "for x, y in dict1.items():\n",
        "  print(x, y)\n"
      ],
      "execution_count": null,
      "outputs": [
        {
          "output_type": "stream",
          "text": [
            "1 Ram\n",
            "Gender Male\n",
            "year 2020\n"
          ],
          "name": "stdout"
        }
      ]
    },
    {
      "cell_type": "code",
      "metadata": {
        "id": "kjHYMKazsMiJ",
        "colab": {
          "base_uri": "https://localhost:8080/"
        },
        "outputId": "6ac7957e-de27-4705-b2a3-f36aa760c94a"
      },
      "source": [
        "#Adding Items\n",
        "\n",
        "dict1[\"Age\"] = 25\n",
        "\n",
        "print(dict1)\n"
      ],
      "execution_count": null,
      "outputs": [
        {
          "output_type": "stream",
          "text": [
            "{'1': 'Ram', 'Gender': 'Male', 'year': 2020, 'Age': 25}\n"
          ],
          "name": "stdout"
        }
      ]
    },
    {
      "cell_type": "code",
      "metadata": {
        "id": "351qE7B0sMiK",
        "colab": {
          "base_uri": "https://localhost:8080/"
        },
        "outputId": "8307d8d9-3705-4afa-c119-6524cb5f684e"
      },
      "source": [
        "#Removing Items\n",
        "\n",
        "dict1.pop(\"Age\")\n",
        "\n",
        "#dict1.popitem()\n",
        "\n",
        "#del dict1[\"Age\"]\n",
        "\n",
        "dict1"
      ],
      "execution_count": null,
      "outputs": [
        {
          "output_type": "execute_result",
          "data": {
            "text/plain": [
              "{'1': 'Ram', 'Gender': 'Male', 'year': 2020}"
            ]
          },
          "metadata": {
            "tags": []
          },
          "execution_count": 78
        }
      ]
    },
    {
      "cell_type": "code",
      "metadata": {
        "id": "MzaV2mhcsMiK",
        "colab": {
          "base_uri": "https://localhost:8080/"
        },
        "outputId": "694fafb4-0439-425f-a741-fd81a855e31d"
      },
      "source": [
        "dict1.clear()\n",
        "print(dict1) \n"
      ],
      "execution_count": null,
      "outputs": [
        {
          "output_type": "stream",
          "text": [
            "{}\n"
          ],
          "name": "stdout"
        }
      ]
    },
    {
      "cell_type": "code",
      "metadata": {
        "id": "wTjylQb_sMiK"
      },
      "source": [
        "# Nested Dictionaries\n",
        "\n",
        "#Create a dictionary that contain three dictionaries:\n",
        "\n",
        "myfamily = {\n",
        "  \"child1\" : {\n",
        "    \"name\" : \"Emil\",\n",
        "    \"year\" : 2004\n",
        "  },\n",
        "  \"child2\" : {\n",
        "    \"name\" : \"Tobias\",\n",
        "    \"year\" : 2007\n",
        "  },\n",
        "  \"child3\" : {\n",
        "    \"name\" : \"Linus\",\n",
        "    \"year\" : 2011\n",
        "  }\n",
        "}\n",
        "\n",
        "# Create three dictionaries, then create one dictionary that will contain the other three dictionaries:\n",
        "\n",
        "child1 = {\n",
        "  \"name\" : \"Emil\",\n",
        "  \"year\" : 2004\n",
        "}\n",
        "child2 = {\n",
        "  \"name\" : \"Tobias\",\n",
        "  \"year\" : 2007\n",
        "}\n",
        "child3 = {\n",
        "  \"name\" : \"Linus\",\n",
        "  \"year\" : 2011\n",
        "}\n",
        "\n",
        "myfamily = {\n",
        "  \"child1\" : child1,\n",
        "  \"child2\" : child2,\n",
        "  \"child3\" : child3\n",
        "}\n",
        "\n"
      ],
      "execution_count": null,
      "outputs": []
    }
  ]
}