{
 "cells": [
  {
   "cell_type": "markdown",
   "id": "eec2ea76",
   "metadata": {},
   "source": [
    "# Feedforward neural net"
   ]
  },
  {
   "cell_type": "code",
   "execution_count": 12,
   "id": "16ba4b87",
   "metadata": {},
   "outputs": [],
   "source": [
    "# import libraries \n",
    "\n",
    "import numpy as np\n",
    "import pandas as pd       \n",
    "import tensorflow as tf\n",
    "import matplotlib.pyplot as plt\n",
    "from sklearn.preprocessing import LabelBinarizer\n",
    "\n",
    "# The LabelBinarizer will be used to one-hot encode our integer labels as vector labels. \n",
    "# One-hot encoding transforms categorical labels from a single integer to a vector. "
   ]
  },
  {
   "cell_type": "code",
   "execution_count": 2,
   "id": "9193d2af",
   "metadata": {},
   "outputs": [],
   "source": [
    "# importing necessary packages to create a simple feedforward neural network\n",
    "\n",
    "from tensorflow.keras.models import Sequential\n",
    "from tensorflow.keras.layers import Flatten\n",
    "from tensorflow.keras.layers import Dense\n",
    "from tensorflow.keras.optimizers import SGD\n",
    "from tensorflow.keras.datasets import mnist\n",
    "# The Sequential class indicates that our network will be feedforward and layers will be added to the class sequentially, one on top of the other. \n",
    "# Dense is the implementation of our fully connected layers. \n",
    "# Finally, to gain access to full MNIST dataset, we need to import mnist."
   ]
  },
  {
   "cell_type": "code",
   "execution_count": 3,
   "id": "eac23ee2",
   "metadata": {},
   "outputs": [
    {
     "name": "stdout",
     "output_type": "stream",
     "text": [
      "MNIST dataset\n",
      "Shape of training data (60000, 28, 28)\n",
      "Shape of test data (10000, 28, 28)\n"
     ]
    }
   ],
   "source": [
    "# loading the MNIST dataset\n",
    "print(\"MNIST dataset\")\n",
    "((trainX, trainY), (testX, testY)) = mnist.load_data()\n",
    "print('Shape of training data',trainX.shape)\n",
    "print('Shape of test data',testX.shape)"
   ]
  },
  {
   "cell_type": "code",
   "execution_count": 4,
   "id": "92e52eff",
   "metadata": {},
   "outputs": [
    {
     "data": {
      "image/png": "[encoded data removed]",
      "text/plain": [
       "<Figure size 432x288 with 2 Axes>"
      ]
     },
     "metadata": {
      "needs_background": "light"
     },
     "output_type": "display_data"
    },
    {
     "name": "stdout",
     "output_type": "stream",
     "text": [
      "5\n"
     ]
    }
   ],
   "source": [
    "plt.figure()\n",
    "plt.imshow(trainX[0])\n",
    "plt.colorbar()\n",
    "plt.show()\n",
    "print(trainY[0])"
   ]
  },
  {
   "cell_type": "code",
   "execution_count": 5,
   "id": "0afb9c70",
   "metadata": {},
   "outputs": [
    {
     "data": {
      "image/png": "[encoded data removed]",
      "text/plain": [
       "<Figure size 432x288 with 2 Axes>"
      ]
     },
     "metadata": {
      "needs_background": "light"
     },
     "output_type": "display_data"
    },
    {
     "name": "stdout",
     "output_type": "stream",
     "text": [
      "5\n"
     ]
    }
   ],
   "source": [
    "# scale data to the range of [0, 1]\n",
    "trainX = trainX.astype(\"float32\") / 255.0\n",
    "testX = testX.astype(\"float32\") / 255.0\n",
    "# Normalizing the data generally speeds up learning and leads to faster convergence. \n",
    "plt.figure()\n",
    "plt.imshow(trainX[0])\n",
    "plt.colorbar()\n",
    "plt.show()\n",
    "print(trainY[0])"
   ]
  },
  {
   "cell_type": "code",
   "execution_count": 6,
   "id": "07f066d9",
   "metadata": {},
   "outputs": [],
   "source": [
    "# Given the training and testing splits, we can now encode our labels:\n",
    "\n",
    "# convert the labels from integers to vectors\n",
    "lb = LabelBinarizer()\n",
    "trainY = lb.fit_transform(trainY)\n",
    "testY = lb.transform(testY)\n",
    "# performs process of one-hot encoding the input integer labels as vector labels for both the training and testing set."
   ]
  },
  {
   "cell_type": "code",
   "execution_count": 7,
   "id": "ece46441",
   "metadata": {},
   "outputs": [
    {
     "name": "stdout",
     "output_type": "stream",
     "text": [
      "WARNING:tensorflow:From C:\\ProgramData\\Anaconda3\\lib\\site-packages\\tensorflow\\python\\ops\\resource_variable_ops.py:435: colocate_with (from tensorflow.python.framework.ops) is deprecated and will be removed in a future version.\n",
      "Instructions for updating:\n",
      "Colocations handled automatically by placer.\n"
     ]
    }
   ],
   "source": [
    "# Next, let’s define our network architecture (784-256-128-10)\n",
    "\n",
    "model = Sequential()\n",
    "model.add(Flatten(input_shape=(28,28)))\n",
    "model.add(Dense(256, activation=\"sigmoid\"))\n",
    "model.add(Dense(128, activation=\"sigmoid\"))\n",
    "model.add(Dense(10, activation=\"softmax\"))"
   ]
  },
  {
   "cell_type": "code",
   "execution_count": 8,
   "id": "3a0231c2",
   "metadata": {},
   "outputs": [
    {
     "name": "stdout",
     "output_type": "stream",
     "text": [
      "[Training network...\n",
      "Train on 60000 samples, validate on 10000 samples\n",
      "WARNING:tensorflow:From C:\\ProgramData\\Anaconda3\\lib\\site-packages\\tensorflow\\python\\ops\\math_ops.py:3066: to_int32 (from tensorflow.python.ops.math_ops) is deprecated and will be removed in a future version.\n",
      "Instructions for updating:\n",
      "Use tf.cast instead.\n",
      "Epoch 1/10\n",
      "60000/60000 [==============================] - 3s 51us/sample - loss: 2.1478 - acc: 0.3842 - val_loss: 1.8991 - val_acc: 0.6246\n",
      "Epoch 2/10\n",
      "60000/60000 [==============================] - 3s 46us/sample - loss: 1.5005 - acc: 0.6715 - val_loss: 1.1093 - val_acc: 0.7732\n",
      "Epoch 3/10\n",
      "60000/60000 [==============================] - 3s 51us/sample - loss: 0.9090 - acc: 0.7883 - val_loss: 0.7395 - val_acc: 0.8235\n",
      "Epoch 4/10\n",
      "60000/60000 [==============================] - 3s 52us/sample - loss: 0.6622 - acc: 0.8344 - val_loss: 0.5753 - val_acc: 0.8549\n",
      "Epoch 5/10\n",
      "60000/60000 [==============================] - 3s 46us/sample - loss: 0.5441 - acc: 0.8577 - val_loss: 0.4926 - val_acc: 0.8713\n",
      "Epoch 6/10\n",
      "60000/60000 [==============================] - 3s 47us/sample - loss: 0.4771 - acc: 0.8723 - val_loss: 0.4385 - val_acc: 0.8834\n",
      "Epoch 7/10\n",
      "60000/60000 [==============================] - 3s 50us/sample - loss: 0.4341 - acc: 0.8827 - val_loss: 0.4035 - val_acc: 0.8901\n",
      "Epoch 8/10\n",
      "60000/60000 [==============================] - 3s 47us/sample - loss: 0.4043 - acc: 0.8889 - val_loss: 0.3776 - val_acc: 0.8947\n",
      "Epoch 9/10\n",
      "60000/60000 [==============================] - 3s 47us/sample - loss: 0.3826 - acc: 0.8935 - val_loss: 0.3601 - val_acc: 0.8982\n",
      "Epoch 10/10\n",
      "60000/60000 [==============================] - 3s 49us/sample - loss: 0.3661 - acc: 0.8972 - val_loss: 0.3466 - val_acc: 0.9019\n"
     ]
    }
   ],
   "source": [
    "# train the model using SGD\n",
    "\n",
    "print(\"[Training network...\")\n",
    "sgd = SGD(0.01)\n",
    "model.compile(loss=\"categorical_crossentropy\", optimizer=sgd, metrics=[\"accuracy\"])\n",
    "H = model.fit(trainX, trainY, validation_data=(testX, testY), epochs=10)\n"
   ]
  },
  {
   "cell_type": "code",
   "execution_count": 9,
   "id": "3915bce5",
   "metadata": {},
   "outputs": [
    {
     "name": "stdout",
     "output_type": "stream",
     "text": [
      "Evaluating network...\n",
      "10000/10000 [==============================] - 0s 23us/sample - loss: 0.3466 - acc: 0.9019\n"
     ]
    }
   ],
   "source": [
    "# evaluate the network on the testing data to obtain our final classifications\n",
    "\n",
    "print(\"Evaluating network...\")\n",
    "\n",
    "test_loss, test_acc = model.evaluate(testX,  testY)\n"
   ]
  },
  {
   "cell_type": "code",
   "execution_count": 10,
   "id": "26192a88",
   "metadata": {},
   "outputs": [
    {
     "name": "stdout",
     "output_type": "stream",
     "text": [
      "[2.9722875e-04 6.7884284e-06 1.1329845e-04 1.5443551e-03 1.1951549e-05\n",
      " 1.2394664e-04 1.2751048e-07 9.9199122e-01 2.3715760e-05 5.8872993e-03]\n",
      "7\n"
     ]
    }
   ],
   "source": [
    "predictions = model.predict(testX) # returns the class label probabilities for every data point in testX\n",
    "print(predictions[0])\n",
    "print(np.argmax(predictions[0]))"
   ]
  },
  {
   "cell_type": "code",
   "execution_count": 11,
   "id": "af9fe883",
   "metadata": {},
   "outputs": [
    {
     "data": {
      "image/png": "[encoded data removed]",
      "text/plain": [
       "<Figure size 432x288 with 1 Axes>"
      ]
     },
     "metadata": {
      "needs_background": "light"
     },
     "output_type": "display_data"
    }
   ],
   "source": [
    "# plot the training loss and accuracy\n",
    "\n",
    "plt.figure()\n",
    "plt.plot(np.arange(0, 10), H.history[\"loss\"], label=\"train_loss\")\n",
    "plt.plot(np.arange(0, 10), H.history[\"val_loss\"], label=\"val_loss\")\n",
    "plt.plot(np.arange(0, 10), H.history[\"acc\"], label=\"train_acc\")\n",
    "plt.plot(np.arange(0, 10), H.history[\"val_acc\"], label=\"val_acc\")\n",
    "plt.title(\"Training Loss and Accuracy\")\n",
    "plt.xlabel(\"Epoch #\")\n",
    "plt.ylabel(\"Loss/Accuracy\")\n",
    "plt.legend()\n",
    "plt.show()"
   ]
  }
 ],
 "metadata": {
  "kernelspec": {
   "display_name": "Python 3 (ipykernel)",
   "language": "python",
   "name": "python3"
  },
  "language_info": {
   "codemirror_mode": {
    "name": "ipython",
    "version": 3
   },
   "file_extension": ".py",
   "mimetype": "text/x-python",
   "name": "python",
   "nbconvert_exporter": "python",
   "pygments_lexer": "ipython3",
   "version": "3.7.3"
  }
 },
 "nbformat": 4,
 "nbformat_minor": 5
}
