{
 "cells": [
  {
   "cell_type": "markdown",
   "metadata": {
    "colab_type": "text",
    "id": "5iuJpSoHRsmF"
   },
   "source": [
    "# **Discriminative Feature Selection**"
   ]
  },
  {
   "cell_type": "markdown",
   "metadata": {
    "colab_type": "text",
    "id": "5bVdpOFCbroj"
   },
   "source": [
    "# FEATURE SELECTION\n",
    "\n",
    "Feature Selection is the process where you automatically or manually select those features which contribute most to your prediction variable or output in which you are interested in. Having irrelevant features in your data can decrease the accuracy of the models and make your model learn based on irrelevant features.\n",
    "\n",
    "We are going to understand it with a practice example. Steps are as follows :\n",
    "\n",
    ">1) Import important libraries\n",
    "\n",
    ">2) Importing data\n",
    "\n",
    ">3) Data Preprocessing\n",
    "\n",
    ">>i) Price\n",
    "\n",
    ">>ii) Size\n",
    "\n",
    ">>iii) Installs\n",
    "\n",
    ">4) Discriminative Feature Check\n",
    "\n",
    ">>i) Reviews\n",
    "\n",
    ">>ii) Price"
   ]
  },
  {
   "cell_type": "markdown",
   "metadata": {
    "colab_type": "text",
    "id": "ZoOy3mnpI7-_"
   },
   "source": [
    "**1. Import Important Libraries**"
   ]
  },
  {
   "cell_type": "code",
   "execution_count": 4,
   "metadata": {
    "colab": {},
    "colab_type": "code",
    "id": "ud79gz-nbq9t"
   },
   "outputs": [],
   "source": [
    "import pandas as pd\n",
    "import matplotlib.pyplot as plt\n",
    "import numpy as np\n"
   ]
  },
  {
   "cell_type": "code",
   "execution_count": 7,
   "metadata": {
    "colab": {},
    "colab_type": "code",
    "id": "CtMVr8_rJDOF"
   },
   "outputs": [
    {
     "ename": "ModuleNotFoundError",
     "evalue": "No module named 'termios'",
     "output_type": "error",
     "traceback": [
      "\u001b[1;31m---------------------------------------------------------------------------\u001b[0m",
      "\u001b[1;31mModuleNotFoundError\u001b[0m                       Traceback (most recent call last)",
      "\u001b[1;32m<ipython-input-7-d5df0069828e>\u001b[0m in \u001b[0;36m<module>\u001b[1;34m\u001b[0m\n\u001b[1;32m----> 1\u001b[1;33m \u001b[1;32mfrom\u001b[0m \u001b[0mgoogle\u001b[0m\u001b[1;33m.\u001b[0m\u001b[0mcolab\u001b[0m \u001b[1;32mimport\u001b[0m \u001b[0mdrive\u001b[0m\u001b[1;33m\u001b[0m\u001b[1;33m\u001b[0m\u001b[0m\n\u001b[0m\u001b[0;32m      2\u001b[0m \u001b[0mdrive\u001b[0m\u001b[1;33m.\u001b[0m\u001b[0mmount\u001b[0m\u001b[1;33m(\u001b[0m\u001b[1;34m'/content/drive'\u001b[0m\u001b[1;33m)\u001b[0m\u001b[1;33m\u001b[0m\u001b[1;33m\u001b[0m\u001b[0m\n",
      "\u001b[1;32m~\\anaconda3\\lib\\site-packages\\google\\colab\\__init__.py\u001b[0m in \u001b[0;36m<module>\u001b[1;34m\u001b[0m\n\u001b[0;32m     21\u001b[0m \u001b[1;32mfrom\u001b[0m \u001b[0mgoogle\u001b[0m\u001b[1;33m.\u001b[0m\u001b[0mcolab\u001b[0m \u001b[1;32mimport\u001b[0m \u001b[0m_installation_commands\u001b[0m\u001b[1;33m\u001b[0m\u001b[1;33m\u001b[0m\u001b[0m\n\u001b[0;32m     22\u001b[0m \u001b[1;32mfrom\u001b[0m \u001b[0mgoogle\u001b[0m\u001b[1;33m.\u001b[0m\u001b[0mcolab\u001b[0m \u001b[1;32mimport\u001b[0m \u001b[0m_shell_customizations\u001b[0m\u001b[1;33m\u001b[0m\u001b[1;33m\u001b[0m\u001b[0m\n\u001b[1;32m---> 23\u001b[1;33m \u001b[1;32mfrom\u001b[0m \u001b[0mgoogle\u001b[0m\u001b[1;33m.\u001b[0m\u001b[0mcolab\u001b[0m \u001b[1;32mimport\u001b[0m \u001b[0m_system_commands\u001b[0m\u001b[1;33m\u001b[0m\u001b[1;33m\u001b[0m\u001b[0m\n\u001b[0m\u001b[0;32m     24\u001b[0m \u001b[1;32mfrom\u001b[0m \u001b[0mgoogle\u001b[0m\u001b[1;33m.\u001b[0m\u001b[0mcolab\u001b[0m \u001b[1;32mimport\u001b[0m \u001b[0m_tensorflow_magics\u001b[0m\u001b[1;33m\u001b[0m\u001b[1;33m\u001b[0m\u001b[0m\n\u001b[0;32m     25\u001b[0m \u001b[1;32mfrom\u001b[0m \u001b[0mgoogle\u001b[0m\u001b[1;33m.\u001b[0m\u001b[0mcolab\u001b[0m \u001b[1;32mimport\u001b[0m \u001b[0mauth\u001b[0m\u001b[1;33m\u001b[0m\u001b[1;33m\u001b[0m\u001b[0m\n",
      "\u001b[1;32m~\\anaconda3\\lib\\site-packages\\google\\colab\\_system_commands.py\u001b[0m in \u001b[0;36m<module>\u001b[1;34m\u001b[0m\n\u001b[0;32m     22\u001b[0m \u001b[1;32mimport\u001b[0m \u001b[0mlocale\u001b[0m\u001b[1;33m\u001b[0m\u001b[1;33m\u001b[0m\u001b[0m\n\u001b[0;32m     23\u001b[0m \u001b[1;32mimport\u001b[0m \u001b[0mos\u001b[0m\u001b[1;33m\u001b[0m\u001b[1;33m\u001b[0m\u001b[0m\n\u001b[1;32m---> 24\u001b[1;33m \u001b[1;32mimport\u001b[0m \u001b[0mpty\u001b[0m\u001b[1;33m\u001b[0m\u001b[1;33m\u001b[0m\u001b[0m\n\u001b[0m\u001b[0;32m     25\u001b[0m \u001b[1;32mimport\u001b[0m \u001b[0mselect\u001b[0m\u001b[1;33m\u001b[0m\u001b[1;33m\u001b[0m\u001b[0m\n\u001b[0;32m     26\u001b[0m \u001b[1;32mimport\u001b[0m \u001b[0msignal\u001b[0m\u001b[1;33m\u001b[0m\u001b[1;33m\u001b[0m\u001b[0m\n",
      "\u001b[1;32m~\\anaconda3\\lib\\pty.py\u001b[0m in \u001b[0;36m<module>\u001b[1;34m\u001b[0m\n\u001b[0;32m     10\u001b[0m \u001b[1;32mimport\u001b[0m \u001b[0mos\u001b[0m\u001b[1;33m\u001b[0m\u001b[1;33m\u001b[0m\u001b[0m\n\u001b[0;32m     11\u001b[0m \u001b[1;32mimport\u001b[0m \u001b[0msys\u001b[0m\u001b[1;33m\u001b[0m\u001b[1;33m\u001b[0m\u001b[0m\n\u001b[1;32m---> 12\u001b[1;33m \u001b[1;32mimport\u001b[0m \u001b[0mtty\u001b[0m\u001b[1;33m\u001b[0m\u001b[1;33m\u001b[0m\u001b[0m\n\u001b[0m\u001b[0;32m     13\u001b[0m \u001b[1;33m\u001b[0m\u001b[0m\n\u001b[0;32m     14\u001b[0m \u001b[0m__all__\u001b[0m \u001b[1;33m=\u001b[0m \u001b[1;33m[\u001b[0m\u001b[1;34m\"openpty\"\u001b[0m\u001b[1;33m,\u001b[0m\u001b[1;34m\"fork\"\u001b[0m\u001b[1;33m,\u001b[0m\u001b[1;34m\"spawn\"\u001b[0m\u001b[1;33m]\u001b[0m\u001b[1;33m\u001b[0m\u001b[1;33m\u001b[0m\u001b[0m\n",
      "\u001b[1;32m~\\anaconda3\\lib\\tty.py\u001b[0m in \u001b[0;36m<module>\u001b[1;34m\u001b[0m\n\u001b[0;32m      3\u001b[0m \u001b[1;31m# Author: Steen Lumholt.\u001b[0m\u001b[1;33m\u001b[0m\u001b[1;33m\u001b[0m\u001b[1;33m\u001b[0m\u001b[0m\n\u001b[0;32m      4\u001b[0m \u001b[1;33m\u001b[0m\u001b[0m\n\u001b[1;32m----> 5\u001b[1;33m \u001b[1;32mfrom\u001b[0m \u001b[0mtermios\u001b[0m \u001b[1;32mimport\u001b[0m \u001b[1;33m*\u001b[0m\u001b[1;33m\u001b[0m\u001b[1;33m\u001b[0m\u001b[0m\n\u001b[0m\u001b[0;32m      6\u001b[0m \u001b[1;33m\u001b[0m\u001b[0m\n\u001b[0;32m      7\u001b[0m \u001b[0m__all__\u001b[0m \u001b[1;33m=\u001b[0m \u001b[1;33m[\u001b[0m\u001b[1;34m\"setraw\"\u001b[0m\u001b[1;33m,\u001b[0m \u001b[1;34m\"setcbreak\"\u001b[0m\u001b[1;33m]\u001b[0m\u001b[1;33m\u001b[0m\u001b[1;33m\u001b[0m\u001b[0m\n",
      "\u001b[1;31mModuleNotFoundError\u001b[0m: No module named 'termios'"
     ]
    }
   ],
   "source": [
    "from google.colab import drive\n",
    "drive.mount('/content/drive')"
   ]
  },
  {
   "cell_type": "markdown",
   "metadata": {
    "colab_type": "text",
    "id": "thryVRKxJQXM"
   },
   "source": [
    "**2. Importing Data**\n",
    "\n",
    "Today we will be working on a playstore apps dataset with ratings. Link to the dataset --> https://www.kaggle.com/lava18/google-play-store-apps/data"
   ]
  },
  {
   "cell_type": "code",
   "execution_count": null,
   "metadata": {
    "colab": {
     "base_uri": "https://localhost:8080/",
     "height": 195
    },
    "colab_type": "code",
    "executionInfo": {
     "elapsed": 7115,
     "status": "ok",
     "timestamp": 1591173946756,
     "user": {
      "displayName": "Shammi Agarwal",
      "photoUrl": "https://lh3.googleusercontent.com/a-/AOh14GgbHOgxZTNv5x7BIQisE6DnR_zfW5EZxBTc4f0gWA=s64",
      "userId": "01723134255060233529"
     },
     "user_tz": -330
    },
    "id": "MbzE4GM7JG2s",
    "outputId": "4ceb5057-9106-41f0-9823-bc848f0d244c"
   },
   "outputs": [],
   "source": [
    "df = pd.read_csv('/content/drive/My Drive/Academic/extras/Projects/Summer2k20/Colab Notebooks/Tutorials/googleplaystore.csv',encoding='unicode_escape')\n",
    "df.head()"
   ]
  },
  {
   "cell_type": "markdown",
   "metadata": {
    "colab_type": "text",
    "id": "MtkAnSpCUjj3"
   },
   "source": [
    "**3. Data Preprocessing**\n",
    "\n",
    "Let us have a look at all the datatypes first :"
   ]
  },
  {
   "cell_type": "code",
   "execution_count": null,
   "metadata": {
    "colab": {
     "base_uri": "https://localhost:8080/",
     "height": 134
    },
    "colab_type": "code",
    "executionInfo": {
     "elapsed": 6636,
     "status": "ok",
     "timestamp": 1591173946757,
     "user": {
      "displayName": "Shammi Agarwal",
      "photoUrl": "https://lh3.googleusercontent.com/a-/AOh14GgbHOgxZTNv5x7BIQisE6DnR_zfW5EZxBTc4f0gWA=s64",
      "userId": "01723134255060233529"
     },
     "user_tz": -330
    },
    "id": "rv-R3sUmpCZ-",
    "outputId": "557d29d1-e331-4fe5-8b1e-d52a9e78a1df"
   },
   "outputs": [],
   "source": [
    "df.dtypes"
   ]
  },
  {
   "cell_type": "markdown",
   "metadata": {
    "colab_type": "text",
    "id": "XIekeM0RUtw3"
   },
   "source": [
    "We see that all the columns except 'Rating' are object datatype. We want those columns also as numeric as they dont make sense when they are in object form.Let us start with the 'Price' column.\n",
    "\n",
    "**i) Price** \n",
    "\n",
    "When we saw the head of the dataset, we only see the 0 values in 'Price' column. Let us have a look at the rows with non zero data. As the 'Price column is object type, we compare the column with '0' instead of 0. "
   ]
  },
  {
   "cell_type": "code",
   "execution_count": null,
   "metadata": {
    "colab": {
     "base_uri": "https://localhost:8080/",
     "height": 195
    },
    "colab_type": "code",
    "executionInfo": {
     "elapsed": 6175,
     "status": "ok",
     "timestamp": 1591173946758,
     "user": {
      "displayName": "Shammi Agarwal",
      "photoUrl": "https://lh3.googleusercontent.com/a-/AOh14GgbHOgxZTNv5x7BIQisE6DnR_zfW5EZxBTc4f0gWA=s64",
      "userId": "01723134255060233529"
     },
     "user_tz": -330
    },
    "id": "OWKD_MtxKnHY",
    "outputId": "fdc0f26f-70d2-4615-de0e-0c275e5101f3"
   },
   "outputs": [],
   "source": [
    "df[df['Price']!='0'].head()"
   ]
  },
  {
   "cell_type": "markdown",
   "metadata": {
    "colab_type": "text",
    "id": "3jbtOmeZW1vg"
   },
   "source": [
    "We see that the 'Price' column has dollar sign in the beginning for the apps which are not free. Hence we cannot directly convert it to numeric type. We will first have to remove the $ sign so that all datas are uniform and can be converted.\n",
    "\n",
    "We use the replace function over here to replace the dollar sign by blank. Notice that we had to convert the column to string type from object type as the replace function is only applicable on string functions."
   ]
  },
  {
   "cell_type": "code",
   "execution_count": null,
   "metadata": {
    "colab": {
     "base_uri": "https://localhost:8080/",
     "height": 195
    },
    "colab_type": "code",
    "executionInfo": {
     "elapsed": 5696,
     "status": "ok",
     "timestamp": 1591173946759,
     "user": {
      "displayName": "Shammi Agarwal",
      "photoUrl": "https://lh3.googleusercontent.com/a-/AOh14GgbHOgxZTNv5x7BIQisE6DnR_zfW5EZxBTc4f0gWA=s64",
      "userId": "01723134255060233529"
     },
     "user_tz": -330
    },
    "id": "mSOqA1KrLOd4",
    "outputId": "38003be6-5d92-486b-ba8f-bc24494cd9dc"
   },
   "outputs": [],
   "source": [
    "df['Price'] = df['Price'].str.replace('$','')\n",
    "df[df['Price']!='0'].head()"
   ]
  },
  {
   "cell_type": "markdown",
   "metadata": {
    "colab_type": "text",
    "id": "f2cD5BMxYG-I"
   },
   "source": [
    "**ii) Size**\n",
    "\n",
    "As we see the 'Size' column, we see that the value ends with the letter 'M' for mega. We want to convert the size to numeric value to use in the dataset. Hence we will need to remove the letter 'M'.\n",
    "\n",
    "For this, we convert the column to string and omit the last letter of the string and save the data in 'Size' column.\n",
    "\n",
    "Notice from the previous head that we saw, that the 'Size' for row 427 is given as varies with device. We obviously cannot convert such data to numeric. We will see how to deal with it later."
   ]
  },
  {
   "cell_type": "code",
   "execution_count": null,
   "metadata": {
    "colab": {
     "base_uri": "https://localhost:8080/",
     "height": 195
    },
    "colab_type": "code",
    "executionInfo": {
     "elapsed": 5275,
     "status": "ok",
     "timestamp": 1591173946760,
     "user": {
      "displayName": "Shammi Agarwal",
      "photoUrl": "https://lh3.googleusercontent.com/a-/AOh14GgbHOgxZTNv5x7BIQisE6DnR_zfW5EZxBTc4f0gWA=s64",
      "userId": "01723134255060233529"
     },
     "user_tz": -330
    },
    "id": "a8oRgrIlf4ES",
    "outputId": "27554376-9605-4d70-d036-957f1829f59c"
   },
   "outputs": [],
   "source": [
    "df['Size'] = df['Size'].str[:-1]\n",
    "df.head()"
   ]
  },
  {
   "cell_type": "markdown",
   "metadata": {
    "colab_type": "text",
    "id": "kgpFuCzfEXH4"
   },
   "source": [
    "**iii) Installs**\n",
    "\n",
    "If we see the 'Installs' column, there are 2 major changes that we need to make to convert it to numeric. We have to remove the '+' sign from the end of the data as well as remove the commas before converting to numeric.\n",
    "\n",
    "To remove the last letter, we apply the same procedure as for the 'Size' column :"
   ]
  },
  {
   "cell_type": "code",
   "execution_count": null,
   "metadata": {
    "colab": {
     "base_uri": "https://localhost:8080/",
     "height": 195
    },
    "colab_type": "code",
    "executionInfo": {
     "elapsed": 4171,
     "status": "ok",
     "timestamp": 1591173946760,
     "user": {
      "displayName": "Shammi Agarwal",
      "photoUrl": "https://lh3.googleusercontent.com/a-/AOh14GgbHOgxZTNv5x7BIQisE6DnR_zfW5EZxBTc4f0gWA=s64",
      "userId": "01723134255060233529"
     },
     "user_tz": -330
    },
    "id": "QLBNf8-ioj61",
    "outputId": "c7e1d2fa-61d4-4577-be9b-06125e9a4343"
   },
   "outputs": [],
   "source": [
    "df['Installs'] = df['Installs'].str[:-1]\n",
    "df.head()"
   ]
  },
  {
   "cell_type": "markdown",
   "metadata": {
    "colab_type": "text",
    "id": "SC9CqimmRXod"
   },
   "source": [
    "For the removal of commas, we will use the replace function to replace commas with blank.\n",
    "\n",
    "Replace function only works on string, hence we access the values of the series as string before applying the replace function :"
   ]
  },
  {
   "cell_type": "code",
   "execution_count": null,
   "metadata": {
    "colab": {
     "base_uri": "https://localhost:8080/",
     "height": 195
    },
    "colab_type": "code",
    "executionInfo": {
     "elapsed": 3784,
     "status": "ok",
     "timestamp": 1591173946761,
     "user": {
      "displayName": "Shammi Agarwal",
      "photoUrl": "https://lh3.googleusercontent.com/a-/AOh14GgbHOgxZTNv5x7BIQisE6DnR_zfW5EZxBTc4f0gWA=s64",
      "userId": "01723134255060233529"
     },
     "user_tz": -330
    },
    "id": "EV-Spuv3OQ2n",
    "outputId": "e766ba7c-4ed0-4f78-cbf3-13cb27e5021f"
   },
   "outputs": [],
   "source": [
    "df['Installs'] = df['Installs'].str.replace(',','')\n",
    "df.head()"
   ]
  },
  {
   "cell_type": "markdown",
   "metadata": {
    "colab_type": "text",
    "id": "RwUi_le5RvNT"
   },
   "source": [
    "Now, we will finally convert all the data to numeric type using the to_numeric function. Notice that we have used the errors='coerce' parameter. This parameter converts all the data which cannot be converted to numeric into NaN. For example the 'Size' in row 427 cannot be converted to int. Hence it will be converted to NaN. After that we take a look at the datatypes of the columns again."
   ]
  },
  {
   "cell_type": "code",
   "execution_count": null,
   "metadata": {
    "colab": {
     "base_uri": "https://localhost:8080/",
     "height": 134
    },
    "colab_type": "code",
    "executionInfo": {
     "elapsed": 3388,
     "status": "ok",
     "timestamp": 1591173946763,
     "user": {
      "displayName": "Shammi Agarwal",
      "photoUrl": "https://lh3.googleusercontent.com/a-/AOh14GgbHOgxZTNv5x7BIQisE6DnR_zfW5EZxBTc4f0gWA=s64",
      "userId": "01723134255060233529"
     },
     "user_tz": -330
    },
    "id": "f7op5hurpnqD",
    "outputId": "2ac816bb-dfce-4466-dcfa-3cbb11c7b4d0"
   },
   "outputs": [],
   "source": [
    "df['Reviews'] = pd.to_numeric(df['Reviews'],errors='coerce')\n",
    "df['Size'] = pd.to_numeric(df['Size'],errors='coerce')\n",
    "df['Installs'] = pd.to_numeric(df['Installs'],errors='coerce')\n",
    "df['Price'] = pd.to_numeric(df['Price'],errors='coerce')\n",
    "df.dtypes"
   ]
  },
  {
   "cell_type": "markdown",
   "metadata": {
    "colab_type": "text",
    "id": "PVRiLNtmSfp8"
   },
   "source": [
    "Now we will see and work with all the NaN values. Let us first have a look at all the NaN values in the dataset :"
   ]
  },
  {
   "cell_type": "code",
   "execution_count": null,
   "metadata": {
    "colab": {
     "base_uri": "https://localhost:8080/",
     "height": 134
    },
    "colab_type": "code",
    "executionInfo": {
     "elapsed": 2939,
     "status": "ok",
     "timestamp": 1591173946763,
     "user": {
      "displayName": "Shammi Agarwal",
      "photoUrl": "https://lh3.googleusercontent.com/a-/AOh14GgbHOgxZTNv5x7BIQisE6DnR_zfW5EZxBTc4f0gWA=s64",
      "userId": "01723134255060233529"
     },
     "user_tz": -330
    },
    "id": "RMGtubn1FOaf",
    "outputId": "59580d62-6595-4503-c61c-90b1052bdcf3"
   },
   "outputs": [],
   "source": [
    "df.isna().sum()"
   ]
  },
  {
   "cell_type": "markdown",
   "metadata": {
    "colab_type": "text",
    "id": "eNxv8FbzSsnt"
   },
   "source": [
    "As rating is the output of our dataset, we cannot have that to be NaN. Hence we will remove all the rows with 'Rating' as NaN :"
   ]
  },
  {
   "cell_type": "code",
   "execution_count": null,
   "metadata": {
    "colab": {
     "base_uri": "https://localhost:8080/",
     "height": 134
    },
    "colab_type": "code",
    "executionInfo": {
     "elapsed": 2129,
     "status": "ok",
     "timestamp": 1591173946764,
     "user": {
      "displayName": "Shammi Agarwal",
      "photoUrl": "https://lh3.googleusercontent.com/a-/AOh14GgbHOgxZTNv5x7BIQisE6DnR_zfW5EZxBTc4f0gWA=s64",
      "userId": "01723134255060233529"
     },
     "user_tz": -330
    },
    "id": "aaSCuF3YQX6T",
    "outputId": "0a7b1c19-4426-4403-b80e-f307961ff216"
   },
   "outputs": [],
   "source": [
    "df = df[df['Rating'].isna()==False]\n",
    "df.isna().sum()"
   ]
  },
  {
   "cell_type": "markdown",
   "metadata": {
    "colab_type": "text",
    "id": "qpojuigaTQDH"
   },
   "source": [
    "This is the final preprocessed dataset that we obtained :"
   ]
  },
  {
   "cell_type": "code",
   "execution_count": null,
   "metadata": {
    "colab": {
     "base_uri": "https://localhost:8080/",
     "height": 195
    },
    "colab_type": "code",
    "executionInfo": {
     "elapsed": 1024,
     "status": "ok",
     "timestamp": 1591173947220,
     "user": {
      "displayName": "Shammi Agarwal",
      "photoUrl": "https://lh3.googleusercontent.com/a-/AOh14GgbHOgxZTNv5x7BIQisE6DnR_zfW5EZxBTc4f0gWA=s64",
      "userId": "01723134255060233529"
     },
     "user_tz": -330
    },
    "id": "iOX3alajQ1LH",
    "outputId": "bf0b6df0-f69d-4193-947c-deab651d696b"
   },
   "outputs": [],
   "source": [
    "df.head()"
   ]
  },
  {
   "cell_type": "markdown",
   "metadata": {
    "colab_type": "text",
    "id": "TJt63DVyafgW"
   },
   "source": [
    "**4. Discriminative Feature Check**\n",
    "\n",
    "Now we will move on to checking the discriminative feature checking, to see which feature is good and which is not. We will start with the 'Reviews' column. For our case, we will take rating > 4.3 as a good rating. We take that value because as we see in the following stats, the rating is divided 50:50 at that value.\n",
    "\n",
    "Before we do that, let us have a look at the statistics of the whole table :"
   ]
  },
  {
   "cell_type": "code",
   "execution_count": null,
   "metadata": {
    "colab": {
     "base_uri": "https://localhost:8080/",
     "height": 284
    },
    "colab_type": "code",
    "executionInfo": {
     "elapsed": 1177,
     "status": "ok",
     "timestamp": 1591175058555,
     "user": {
      "displayName": "Shammi Agarwal",
      "photoUrl": "https://lh3.googleusercontent.com/a-/AOh14GgbHOgxZTNv5x7BIQisE6DnR_zfW5EZxBTc4f0gWA=s64",
      "userId": "01723134255060233529"
     },
     "user_tz": -330
    },
    "id": "IZXNc5jWbHf5",
    "outputId": "9bfbf05d-2ef8-4ae1-eed9-f4e14ee19671"
   },
   "outputs": [],
   "source": [
    "df.describe()"
   ]
  },
  {
   "cell_type": "markdown",
   "metadata": {
    "colab_type": "text",
    "id": "IgSppjyncG3p"
   },
   "source": [
    "**i) Reviews**\n",
    "\n",
    "We will have to check for multiple values that which of them has the best rating distinction. We will start by comparing with the mean of the 'Reviews' column which is 514098.\n",
    "\n",
    "We will use a new function over here known as crosstab. Crosstab allows us to have a frequency count across 2 columns or conditions.\n",
    "\n",
    "We could also normalize the column results to obtain the conditional probability of P(Rating = HIGH | condition)\n",
    "\n",
    "We have also turned on the margins to see the total frequency under that condition."
   ]
  },
  {
   "cell_type": "code",
   "execution_count": null,
   "metadata": {
    "colab": {
     "base_uri": "https://localhost:8080/",
     "height": 166
    },
    "colab_type": "code",
    "executionInfo": {
     "elapsed": 1132,
     "status": "ok",
     "timestamp": 1591176588882,
     "user": {
      "displayName": "Shammi Agarwal",
      "photoUrl": "https://lh3.googleusercontent.com/a-/AOh14GgbHOgxZTNv5x7BIQisE6DnR_zfW5EZxBTc4f0gWA=s64",
      "userId": "01723134255060233529"
     },
     "user_tz": -330
    },
    "id": "YtzZ5rLSUGXx",
    "outputId": "d9c4e41a-a3fa-44dd-d018-2f0ba4cb23d3"
   },
   "outputs": [],
   "source": [
    "pd.crosstab(df['Rating']>4.3,df['Reviews']>514098,rownames=['Ratings>4.3'],colnames=['Reviews>514098'],margins= True)"
   ]
  },
  {
   "cell_type": "markdown",
   "metadata": {
    "colab_type": "text",
    "id": "jrkum7JJfGYV"
   },
   "source": [
    "We see that the number of ratings in the case of Reviews > 514098 is very less (close to 10%).\n",
    "\n",
    "Hence it is preferred to take the 50 percentile point rather than the mean to be the pivot point. Let us now take the 50 percentile point which is 5930 reviews in this case. So let us take a look at that :"
   ]
  },
  {
   "cell_type": "code",
   "execution_count": null,
   "metadata": {
    "colab": {
     "base_uri": "https://localhost:8080/",
     "height": 166
    },
    "colab_type": "code",
    "executionInfo": {
     "elapsed": 1093,
     "status": "ok",
     "timestamp": 1591176958783,
     "user": {
      "displayName": "Shammi Agarwal",
      "photoUrl": "https://lh3.googleusercontent.com/a-/AOh14GgbHOgxZTNv5x7BIQisE6DnR_zfW5EZxBTc4f0gWA=s64",
      "userId": "01723134255060233529"
     },
     "user_tz": -330
    },
    "id": "xvnXygIUUNy0",
    "outputId": "205c4498-e876-45ef-b79b-8ddaa266b498"
   },
   "outputs": [],
   "source": [
    "pd.crosstab(df['Rating']>4.3,df['Reviews']>5930,rownames=['Ratings>4.3'],colnames=['Reviews>5930'],margins= True)"
   ]
  },
  {
   "cell_type": "markdown",
   "metadata": {
    "colab_type": "text",
    "id": "s629fBu-ib07"
   },
   "source": [
    "Now we see that the number of ratings is equal for both high and low reviews. So we will take the 50 percentile point to start from now on. Let us now look at the conditional probability :"
   ]
  },
  {
   "cell_type": "code",
   "execution_count": null,
   "metadata": {
    "colab": {
     "base_uri": "https://localhost:8080/",
     "height": 136
    },
    "colab_type": "code",
    "executionInfo": {
     "elapsed": 1141,
     "status": "ok",
     "timestamp": 1591177085543,
     "user": {
      "displayName": "Shammi Agarwal",
      "photoUrl": "https://lh3.googleusercontent.com/a-/AOh14GgbHOgxZTNv5x7BIQisE6DnR_zfW5EZxBTc4f0gWA=s64",
      "userId": "01723134255060233529"
     },
     "user_tz": -330
    },
    "id": "Qy_cXT_Mixao",
    "outputId": "1a748483-6320-41fb-ba8d-0cb4c549aeb2"
   },
   "outputs": [],
   "source": [
    "pd.crosstab(df['Rating']>4.3,df['Reviews']>5930,rownames=['Ratings>4.3'],colnames=['Reviews>5930'],margins= True,normalize='columns')"
   ]
  },
  {
   "cell_type": "markdown",
   "metadata": {
    "colab_type": "text",
    "id": "Ie80zdyHjegu"
   },
   "source": [
    "There is not much difference between P(Ratings=HIGH|Reviews<5930) and P(Ratings=HIGH|Reviews>5930) so this is a bad feature.\n",
    "\n",
    "Let us increase the value of the pivot for ratings to 80000 and check again. We dont need to check for the percentage being too low as we are almost at 75 percentile mark."
   ]
  },
  {
   "cell_type": "code",
   "execution_count": null,
   "metadata": {
    "colab": {
     "base_uri": "https://localhost:8080/",
     "height": 136
    },
    "colab_type": "code",
    "executionInfo": {
     "elapsed": 1101,
     "status": "ok",
     "timestamp": 1591178079368,
     "user": {
      "displayName": "Shammi Agarwal",
      "photoUrl": "https://lh3.googleusercontent.com/a-/AOh14GgbHOgxZTNv5x7BIQisE6DnR_zfW5EZxBTc4f0gWA=s64",
      "userId": "01723134255060233529"
     },
     "user_tz": -330
    },
    "id": "mFccPGT4i1nK",
    "outputId": "adcf1203-4f1e-4a9f-d125-aff400e0928b"
   },
   "outputs": [],
   "source": [
    "pd.crosstab(df['Rating']>4.3,df['Reviews']>80000,rownames=['Ratings>4.3'],colnames=['Reviews>80000'],margins= True,normalize='columns')"
   ]
  },
  {
   "cell_type": "markdown",
   "metadata": {
    "colab_type": "text",
    "id": "qu_oWKz7m0lN"
   },
   "source": [
    "Now we see that there is a good difference in the probabilities and hence Rating>80000 is a good feature."
   ]
  },
  {
   "cell_type": "markdown",
   "metadata": {
    "colab_type": "text",
    "id": "PMzLVPUzpYFG"
   },
   "source": [
    "**ii) Price**\n",
    "\n",
    "We will do the same for 'Price' column to find out the best distinctive feature. We see that in this case, even the 75 percentile mark also points to 0. Hence in this case, we will classify the data as Free or not :"
   ]
  },
  {
   "cell_type": "code",
   "execution_count": null,
   "metadata": {
    "colab": {
     "base_uri": "https://localhost:8080/",
     "height": 166
    },
    "colab_type": "code",
    "executionInfo": {
     "elapsed": 1295,
     "status": "ok",
     "timestamp": 1591180162958,
     "user": {
      "displayName": "Shammi Agarwal",
      "photoUrl": "https://lh3.googleusercontent.com/a-/AOh14GgbHOgxZTNv5x7BIQisE6DnR_zfW5EZxBTc4f0gWA=s64",
      "userId": "01723134255060233529"
     },
     "user_tz": -330
    },
    "id": "uBPTwTCzmehR",
    "outputId": "fd5202f0-f18b-45b1-88ee-8ea2093a43bf"
   },
   "outputs": [],
   "source": [
    "pd.crosstab(df['Rating']>4.3,df['Price']==0,rownames=['Ratings>4.3'],colnames=['Price=$0'],margins= True)"
   ]
  },
  {
   "cell_type": "markdown",
   "metadata": {
    "colab_type": "text",
    "id": "7bDTYqnuvf8J"
   },
   "source": [
    "This shows us that it is very difficult to use the Price as a feature. Hence it is a doubtful feature. If then also we want to force this as a feature, let us see the conditional probability :"
   ]
  },
  {
   "cell_type": "code",
   "execution_count": null,
   "metadata": {
    "colab": {
     "base_uri": "https://localhost:8080/",
     "height": 136
    },
    "colab_type": "code",
    "executionInfo": {
     "elapsed": 1180,
     "status": "ok",
     "timestamp": 1591180590944,
     "user": {
      "displayName": "Shammi Agarwal",
      "photoUrl": "https://lh3.googleusercontent.com/a-/AOh14GgbHOgxZTNv5x7BIQisE6DnR_zfW5EZxBTc4f0gWA=s64",
      "userId": "01723134255060233529"
     },
     "user_tz": -330
    },
    "id": "bvusHxBgunIs",
    "outputId": "0ab8e3c4-3bf5-4849-808d-c1babfa29b92"
   },
   "outputs": [],
   "source": [
    "pd.crosstab(df['Rating']>4.3,df['Price']==0,rownames=['Ratings>4.3'],colnames=['Price=$0'],margins= True,normalize='columns')"
   ]
  },
  {
   "cell_type": "markdown",
   "metadata": {
    "colab_type": "text",
    "id": "BG7Y8pMkwSx1"
   },
   "source": [
    "We see that there is not much difference in probability either, hence this would serve as a bad feature in any case."
   ]
  },
  {
   "cell_type": "markdown",
   "metadata": {
    "colab_type": "text",
    "id": "axCpa9MxwbVr"
   },
   "source": [
    "This is the end of this tutorial. Now you can move on to assignment 7 in which you have to check the other 2 distinctive features."
   ]
  }
 ],
 "metadata": {
  "colab": {
   "authorship_tag": "ABX9TyN7DWO/zvfYozfaV3k76LDu",
   "collapsed_sections": [],
   "name": "Tutorial7.ipynb",
   "provenance": []
  },
  "kernelspec": {
   "display_name": "Python 3",
   "language": "python",
   "name": "python3"
  },
  "language_info": {
   "codemirror_mode": {
    "name": "ipython",
    "version": 3
   },
   "file_extension": ".py",
   "mimetype": "text/x-python",
   "name": "python",
   "nbconvert_exporter": "python",
   "pygments_lexer": "ipython3",
   "version": "3.8.8"
  }
 },
 "nbformat": 4,
 "nbformat_minor": 1
}
