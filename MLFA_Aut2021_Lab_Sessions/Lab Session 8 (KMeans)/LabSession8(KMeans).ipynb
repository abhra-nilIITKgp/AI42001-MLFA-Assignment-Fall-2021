{
  "nbformat": 4,
  "nbformat_minor": 5,
  "metadata": {
    "kernelspec": {
      "display_name": "Python 3",
      "language": "python",
      "name": "python3"
    },
    "language_info": {
      "codemirror_mode": {
        "name": "ipython",
        "version": 3
      },
      "file_extension": ".py",
      "mimetype": "text/x-python",
      "name": "python",
      "nbconvert_exporter": "python",
      "pygments_lexer": "ipython3",
      "version": "3.8.8"
    },
    "colab": {
      "name": "LabSession8(KMeans).ipynb",
      "provenance": []
    }
  },
  "cells": [
    {
      "cell_type": "markdown",
      "metadata": {
        "id": "e6f0036a"
      },
      "source": [
        "# K-Means Clustering"
      ],
      "id": "e6f0036a"
    },
    {
      "cell_type": "code",
      "metadata": {
        "id": "04466bfa"
      },
      "source": [
        "# Import the libraries\n",
        "\n",
        "import numpy as np\n",
        "import matplotlib.pyplot as plt\n",
        "import pandas as pd"
      ],
      "id": "04466bfa",
      "execution_count": 54,
      "outputs": []
    },
    {
      "cell_type": "code",
      "metadata": {
        "id": "55411e23",
        "colab": {
          "base_uri": "https://localhost:8080/",
          "height": 297
        },
        "outputId": "f8856cd9-7237-4f1b-e5c5-1615600965b6"
      },
      "source": [
        "# Import the dataset\n",
        "\n",
        "dataset=pd.read_csv('Mall_Customers.csv')\n",
        "dataset.describe()"
      ],
      "id": "55411e23",
      "execution_count": 55,
      "outputs": [
        {
          "output_type": "execute_result",
          "data": {
            "text/html": [
              "<div>\n",
              "<style scoped>\n",
              "    .dataframe tbody tr th:only-of-type {\n",
              "        vertical-align: middle;\n",
              "    }\n",
              "\n",
              "    .dataframe tbody tr th {\n",
              "        vertical-align: top;\n",
              "    }\n",
              "\n",
              "    .dataframe thead th {\n",
              "        text-align: right;\n",
              "    }\n",
              "</style>\n",
              "<table border=\"1\" class=\"dataframe\">\n",
              "  <thead>\n",
              "    <tr style=\"text-align: right;\">\n",
              "      <th></th>\n",
              "      <th>CustomerID</th>\n",
              "      <th>Age</th>\n",
              "      <th>Annual Income (k$)</th>\n",
              "      <th>Spending Score (1-100)</th>\n",
              "    </tr>\n",
              "  </thead>\n",
              "  <tbody>\n",
              "    <tr>\n",
              "      <th>count</th>\n",
              "      <td>200.000000</td>\n",
              "      <td>200.000000</td>\n",
              "      <td>200.000000</td>\n",
              "      <td>200.000000</td>\n",
              "    </tr>\n",
              "    <tr>\n",
              "      <th>mean</th>\n",
              "      <td>100.500000</td>\n",
              "      <td>38.850000</td>\n",
              "      <td>60.560000</td>\n",
              "      <td>50.200000</td>\n",
              "    </tr>\n",
              "    <tr>\n",
              "      <th>std</th>\n",
              "      <td>57.879185</td>\n",
              "      <td>13.969007</td>\n",
              "      <td>26.264721</td>\n",
              "      <td>25.823522</td>\n",
              "    </tr>\n",
              "    <tr>\n",
              "      <th>min</th>\n",
              "      <td>1.000000</td>\n",
              "      <td>18.000000</td>\n",
              "      <td>15.000000</td>\n",
              "      <td>1.000000</td>\n",
              "    </tr>\n",
              "    <tr>\n",
              "      <th>25%</th>\n",
              "      <td>50.750000</td>\n",
              "      <td>28.750000</td>\n",
              "      <td>41.500000</td>\n",
              "      <td>34.750000</td>\n",
              "    </tr>\n",
              "    <tr>\n",
              "      <th>50%</th>\n",
              "      <td>100.500000</td>\n",
              "      <td>36.000000</td>\n",
              "      <td>61.500000</td>\n",
              "      <td>50.000000</td>\n",
              "    </tr>\n",
              "    <tr>\n",
              "      <th>75%</th>\n",
              "      <td>150.250000</td>\n",
              "      <td>49.000000</td>\n",
              "      <td>78.000000</td>\n",
              "      <td>73.000000</td>\n",
              "    </tr>\n",
              "    <tr>\n",
              "      <th>max</th>\n",
              "      <td>200.000000</td>\n",
              "      <td>70.000000</td>\n",
              "      <td>137.000000</td>\n",
              "      <td>99.000000</td>\n",
              "    </tr>\n",
              "  </tbody>\n",
              "</table>\n",
              "</div>"
            ],
            "text/plain": [
              "       CustomerID         Age  Annual Income (k$)  Spending Score (1-100)\n",
              "count  200.000000  200.000000          200.000000              200.000000\n",
              "mean   100.500000   38.850000           60.560000               50.200000\n",
              "std     57.879185   13.969007           26.264721               25.823522\n",
              "min      1.000000   18.000000           15.000000                1.000000\n",
              "25%     50.750000   28.750000           41.500000               34.750000\n",
              "50%    100.500000   36.000000           61.500000               50.000000\n",
              "75%    150.250000   49.000000           78.000000               73.000000\n",
              "max    200.000000   70.000000          137.000000               99.000000"
            ]
          },
          "metadata": {},
          "execution_count": 55
        }
      ]
    },
    {
      "cell_type": "code",
      "metadata": {
        "id": "8fc51834"
      },
      "source": [
        "#For visualization convenience, we take Annual Income and Spending score as our data.\n",
        "\n",
        "X = dataset.iloc[:, [3, 4]].values"
      ],
      "id": "8fc51834",
      "execution_count": 56,
      "outputs": []
    },
    {
      "cell_type": "code",
      "metadata": {
        "id": "ee2dd6c0",
        "colab": {
          "base_uri": "https://localhost:8080/",
          "height": 279
        },
        "outputId": "f5841920-286d-4bfc-9682-b2fa82a439a3"
      },
      "source": [
        "# Visualizing the dataset\n",
        "\n",
        "plt.scatter(X[:,0],X[:,1],c='black',label='unclustered data')\n",
        "plt.xlabel('Income')\n",
        "plt.ylabel('Spending Score')\n",
        "plt.legend()\n",
        "plt.show()"
      ],
      "id": "ee2dd6c0",
      "execution_count": 57,
      "outputs": [
        {
          "output_type": "display_data",
          "data": {
            "image/png": "[encoded data removed]",
            "text/plain": [
              "<Figure size 432x288 with 1 Axes>"
            ]
          },
          "metadata": {
            "needs_background": "light"
          }
        }
      ]
    },
    {
      "cell_type": "code",
      "metadata": {
        "id": "178335d5"
      },
      "source": [
        "from sklearn.cluster import KMeans"
      ],
      "id": "178335d5",
      "execution_count": 58,
      "outputs": []
    },
    {
      "cell_type": "code",
      "metadata": {
        "id": "6d047bb6"
      },
      "source": [
        "kmeans = KMeans(n_clusters = 3, init = 'random', random_state = 42)\n",
        "kmeans = kmeans.fit(X)"
      ],
      "id": "6d047bb6",
      "execution_count": null,
      "outputs": []
    },
    {
      "cell_type": "code",
      "metadata": {
        "id": "7a1c482a",
        "colab": {
          "base_uri": "https://localhost:8080/"
        },
        "outputId": "23685925-83ef-4289-fe5c-e9067dbe03d5"
      },
      "source": [
        "# The lowest SSE value\n",
        "kmeans.inertia_"
      ],
      "id": "7a1c482a",
      "execution_count": null,
      "outputs": [
        {
          "output_type": "execute_result",
          "data": {
            "text/plain": [
              "106348.37306211118"
            ]
          },
          "metadata": {},
          "execution_count": 43
        }
      ]
    },
    {
      "cell_type": "code",
      "metadata": {
        "id": "55cb8612",
        "colab": {
          "base_uri": "https://localhost:8080/"
        },
        "outputId": "e46ef335-803f-4c74-a9c5-72c436db59e4"
      },
      "source": [
        "# Final locations of the centroid\n",
        "kmeans.cluster_centers_"
      ],
      "id": "55cb8612",
      "execution_count": null,
      "outputs": [
        {
          "output_type": "execute_result",
          "data": {
            "text/plain": [
              "array([[44.15447154, 49.82926829],\n",
              "       [87.        , 18.63157895],\n",
              "       [86.53846154, 82.12820513]])"
            ]
          },
          "metadata": {},
          "execution_count": 44
        }
      ]
    },
    {
      "cell_type": "code",
      "metadata": {
        "id": "4d39b22d",
        "colab": {
          "base_uri": "https://localhost:8080/"
        },
        "outputId": "d12969d6-eec6-4c80-b977-480dbb9fb483"
      },
      "source": [
        "# The number of iterations required to converge\n",
        "kmeans.n_iter_"
      ],
      "id": "4d39b22d",
      "execution_count": null,
      "outputs": [
        {
          "output_type": "execute_result",
          "data": {
            "text/plain": [
              "9"
            ]
          },
          "metadata": {},
          "execution_count": 45
        }
      ]
    },
    {
      "cell_type": "code",
      "metadata": {
        "id": "8d95232d"
      },
      "source": [
        "y_kmeans = kmeans.fit_predict(X)"
      ],
      "id": "8d95232d",
      "execution_count": null,
      "outputs": []
    },
    {
      "cell_type": "code",
      "metadata": {
        "id": "d2601000",
        "colab": {
          "base_uri": "https://localhost:8080/",
          "height": 295
        },
        "outputId": "57c18d3c-db36-4eba-c20e-99e789c9ed9b"
      },
      "source": [
        "# Visualising the clusters\n",
        "plt.scatter(X[y_kmeans == 0, 0], X[y_kmeans == 0, 1], c = 'red', label = 'Cluster 1')\n",
        "plt.scatter(X[y_kmeans == 1, 0], X[y_kmeans == 1, 1], c = 'blue', label = 'Cluster 2')\n",
        "plt.scatter(X[y_kmeans == 2, 0], X[y_kmeans == 2, 1], c = 'green', label = 'Cluster 3')\n",
        "plt.scatter(kmeans.cluster_centers_[:, 0], kmeans.cluster_centers_[:, 1], c = 'yellow', label = 'Centroids')\n",
        "plt.title('Clusters of customers')\n",
        "plt.xlabel('Annual Income')\n",
        "plt.ylabel('Spending Score')\n",
        "plt.legend()\n",
        "plt.show()"
      ],
      "id": "d2601000",
      "execution_count": null,
      "outputs": [
        {
          "output_type": "display_data",
          "data": {
            "image/png": "[encoded data removed]",
            "text/plain": [
              "<Figure size 432x288 with 1 Axes>"
            ]
          },
          "metadata": {
            "needs_background": "light"
          }
        }
      ]
    },
    {
      "cell_type": "code",
      "metadata": {
        "id": "a5e461e4",
        "colab": {
          "base_uri": "https://localhost:8080/",
          "height": 295
        },
        "outputId": "0ef5dafd-3027-4b44-c3e1-9818b016c1d2"
      },
      "source": [
        "# Using the elbow method to find the optimal number of clusters\n",
        "\n",
        "wcss = []\n",
        "for i in range(1, 11):\n",
        "    kmeans = KMeans(n_clusters = i, init = 'random', random_state = 42)\n",
        "    kmeans.fit(X)\n",
        "    wcss.append(kmeans.inertia_)\n",
        "plt.plot(range(1, 11), wcss)\n",
        "plt.title('The Elbow Method')\n",
        "plt.xlabel('Number of clusters')\n",
        "plt.ylabel('WCSS')\n",
        "plt.grid()\n",
        "plt.show()"
      ],
      "id": "a5e461e4",
      "execution_count": null,
      "outputs": [
        {
          "output_type": "display_data",
          "data": {
            "image/png": "[encoded data removed]",
            "text/plain": [
              "<Figure size 432x288 with 1 Axes>"
            ]
          },
          "metadata": {
            "needs_background": "light"
          }
        }
      ]
    },
    {
      "cell_type": "code",
      "metadata": {
        "id": "d5111702"
      },
      "source": [
        "# Fitting K-Means++ to the dataset\n",
        "\n",
        "kmeans1 = KMeans(n_clusters = 5, init = 'k-means++', random_state = 42)\n",
        "kmeans1 =kmeans1.fit(X)"
      ],
      "id": "d5111702",
      "execution_count": null,
      "outputs": []
    },
    {
      "cell_type": "code",
      "metadata": {
        "id": "f5fdea1c",
        "colab": {
          "base_uri": "https://localhost:8080/"
        },
        "outputId": "c3cd0b23-8bcc-41de-e874-f69055c35bb4"
      },
      "source": [
        "print('SSE Value is',kmeans1.inertia_)\n",
        "print('Iterartions required to converge', kmeans1.n_iter_)"
      ],
      "id": "f5fdea1c",
      "execution_count": null,
      "outputs": [
        {
          "output_type": "stream",
          "name": "stdout",
          "text": [
            "SSE Value is 44448.45544793371\n",
            "Iterartions required to converge 4\n"
          ]
        }
      ]
    },
    {
      "cell_type": "code",
      "metadata": {
        "id": "32gKtDjst4LR"
      },
      "source": [
        "y_kmeans1 = kmeans1.fit_predict(X)\n",
        "#y_kmeans1"
      ],
      "id": "32gKtDjst4LR",
      "execution_count": null,
      "outputs": []
    },
    {
      "cell_type": "code",
      "metadata": {
        "id": "432a7de2",
        "colab": {
          "base_uri": "https://localhost:8080/",
          "height": 295
        },
        "outputId": "bdd756d7-2d57-416e-ab37-6d98ec8380fb"
      },
      "source": [
        "# Visualising the clusters\n",
        "plt.scatter(X[y_kmeans1 == 0, 0], X[y_kmeans1 == 0, 1], c = 'red', label = 'Cluster 1')\n",
        "plt.scatter(X[y_kmeans1 == 1, 0], X[y_kmeans1 == 1, 1], c = 'blue', label = 'Cluster 2')\n",
        "plt.scatter(X[y_kmeans1 == 2, 0], X[y_kmeans1 == 2, 1], c = 'green', label = 'Cluster 3')\n",
        "plt.scatter(X[y_kmeans1 == 3, 0], X[y_kmeans1 == 3, 1], c = 'cyan', label = 'Cluster 4')\n",
        "plt.scatter(X[y_kmeans1 == 4, 0], X[y_kmeans1 == 4, 1], c = 'magenta', label = 'Cluster 5')\n",
        "plt.scatter(kmeans1.cluster_centers_[:, 0], kmeans1.cluster_centers_[:, 1], c = 'yellow', label = 'Centroids')\n",
        "plt.title('Clusters of customers')\n",
        "plt.xlabel('Annual Income')\n",
        "plt.ylabel('Spending Score')\n",
        "plt.legend()\n",
        "plt.show()"
      ],
      "id": "432a7de2",
      "execution_count": null,
      "outputs": [
        {
          "output_type": "display_data",
          "data": {
            "image/png": "[encoded data removed]",
            "text/plain": [
              "<Figure size 432x288 with 1 Axes>"
            ]
          },
          "metadata": {
            "needs_background": "light"
          }
        }
      ]
    }
  ]
}