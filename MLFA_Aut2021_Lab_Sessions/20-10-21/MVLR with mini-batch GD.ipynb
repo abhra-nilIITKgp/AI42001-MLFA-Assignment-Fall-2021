{
 "cells": [
  {
   "cell_type": "code",
   "execution_count": 2,
   "metadata": {},
   "outputs": [],
   "source": [
    "import numpy as np\n",
    "import pandas as pd\n",
    "import matplotlib.pyplot as plt\n",
    "from mpl_toolkits.mplot3d import Axes3D"
   ]
  },
  {
   "cell_type": "code",
   "execution_count": 3,
   "metadata": {},
   "outputs": [],
   "source": [
    "def get_batches(X,y,batch_size,i):\n",
    "    X_new = X[i:i+batch_size,:]\n",
    "    y_new = y[i:i+batch_size]    \n",
    "    return X_new, y_new\n",
    "\n",
    "# Mini-Batch Gradient Descent\n",
    "def MiniBatchGradientDescent(X,y,theta,iters,learning_rate=0.1,batch_size=10):\n",
    "    alpha = learning_rate\n",
    "    num_batches = int(X.shape[0]/batch_size)  \n",
    "    cost_array = np.zeros(iters)\n",
    "    for j in range(iters):\n",
    "        for i in range(0,num_batches): #chunks\n",
    "            X_batch, y_batch = get_batches(X,y,batch_size,i)\n",
    "            #print(X_batch.shape, y_batch.shape)\n",
    "            new_theta, new_cost = gradient_descent2(X_batch, y_batch, theta, alpha)\n",
    "            theta = new_theta\n",
    "        cost_array[j] = new_cost\n",
    "    return cost_array"
   ]
  },
  {
   "cell_type": "code",
   "execution_count": 4,
   "metadata": {},
   "outputs": [],
   "source": [
    "def cost_function(X, y, theta):\n",
    "    m = y.size\n",
    "    error = np.dot(X, theta.T) - y\n",
    "    cost = 1/(2*m) * np.dot(error.T, error)\n",
    "    return cost, error\n",
    "\n",
    "def gradient_descent2(X, y, theta, alpha):\n",
    "    cost_array = 0\n",
    "    m = y.size\n",
    "    cost, error = cost_function(X, y, theta)\n",
    "    theta = theta - (alpha * (1/m) * np.dot(X.T, error))\n",
    "    cost_array = cost\n",
    "    return theta, cost_array\n",
    "\n",
    "def gradient_descent(X, y, theta, alpha, iters):\n",
    "    cost_array = np.zeros(iters)\n",
    "    m = y.size\n",
    "    for i in range(iters):\n",
    "        cost, error = cost_function(X, y, theta)\n",
    "        theta = theta - (alpha * (1/m) * np.dot(X.T, error))\n",
    "        cost_array[i] = cost\n",
    "    return theta, cost_array\n",
    "\n",
    "def plotChart(iterations, cost_num):\n",
    "    fig, ax = plt.subplots()\n",
    "    ax.plot(np.arange(iterations), cost_num, 'r')\n",
    "    ax.set_xlabel('Iterations')\n",
    "    ax.set_ylabel('Cost')\n",
    "    ax.set_title('Error vs Iterations')\n",
    "    plt.style.use('fivethirtyeight')\n",
    "    plt.show()"
   ]
  },
  {
   "cell_type": "code",
   "execution_count": 5,
   "metadata": {
    "scrolled": true
   },
   "outputs": [
    {
     "name": "stdout",
     "output_type": "stream",
     "text": [
      "With initial theta values of [0. 0. 0.], cost error is 65591548106.45744\n"
     ]
    },
    {
     "data": {
      "image/png": "[encoded data removed]",
      "text/plain": [
       "<Figure size 432x288 with 1 Axes>"
      ]
     },
     "metadata": {
      "needs_background": "light"
     },
     "output_type": "display_data"
    }
   ],
   "source": [
    "# Import data\n",
    "data = pd.read_csv('house_practice.csv')\n",
    "\n",
    "# Extract data into X and y\n",
    "X = data[['Size', 'Bedrooms']]\n",
    "y = data['Price']\n",
    "\n",
    "# Normalize our features\n",
    "X = (X - X.mean()) / X.std()\n",
    "X = np.c_[np.ones(X.shape[0]), X] \n",
    "# Set hyperparameters\n",
    "alpha = 0.01\n",
    "iterations = 1000\n",
    "\n",
    "# Initialize Theta Values to 0\n",
    "theta = np.zeros(X.shape[1])\n",
    "initial_cost, _ = cost_function(X, y, theta)\n",
    "\n",
    "print('With initial theta values of {0}, cost error is {1}'.format(theta, initial_cost))\n",
    "cost_array = MiniBatchGradientDescent(X,y,theta,iterations,learning_rate=0.001,batch_size=2)\n",
    "plotChart(iterations, cost_array)"
   ]
  },
  {
   "cell_type": "code",
   "execution_count": null,
   "metadata": {},
   "outputs": [],
   "source": []
  },
  {
   "cell_type": "code",
   "execution_count": null,
   "metadata": {},
   "outputs": [],
   "source": []
  },
  {
   "cell_type": "code",
   "execution_count": null,
   "metadata": {},
   "outputs": [],
   "source": []
  },
  {
   "cell_type": "code",
   "execution_count": null,
   "metadata": {},
   "outputs": [],
   "source": []
  }
 ],
 "metadata": {
  "kernelspec": {
   "display_name": "Python 3",
   "language": "python",
   "name": "python3"
  },
  "language_info": {
   "codemirror_mode": {
    "name": "ipython",
    "version": 3
   },
   "file_extension": ".py",
   "mimetype": "text/x-python",
   "name": "python",
   "nbconvert_exporter": "python",
   "pygments_lexer": "ipython3",
   "version": "3.7.6"
  }
 },
 "nbformat": 4,
 "nbformat_minor": 4
}
