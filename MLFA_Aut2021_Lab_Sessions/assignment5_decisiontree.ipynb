{
 "cells": [
  {
   "cell_type": "code",
   "execution_count": 1,
   "metadata": {
    "id": "h1wXvjnNrfif"
   },
   "outputs": [],
   "source": [
    "#Run this cell\n",
    "#Importing necessary libraries \n",
    "import pandas as pd  \n",
    "import numpy as np \n",
    "import matplotlib.pyplot as plt\n",
    "import json\n",
    "ans=[None]*5"
   ]
  },
  {
   "cell_type": "code",
   "execution_count": null,
   "metadata": {
    "id": "DwSVIBfD0qNR"
   },
   "outputs": [],
   "source": [
    "#Import the dataset and define the feature as well as the target datasets / columns \n",
    "... \n",
    "#We drop the animal names since this is not a good feature to split the data on. \n",
    "...\n",
    "..."
   ]
  },
  {
   "cell_type": "code",
   "execution_count": null,
   "metadata": {
    "id": "JVym-1Gp07wb"
   },
   "outputs": [],
   "source": [
    "#Write a function to find the entropy on a split \"target_col\"\n",
    "#def entropy(target_col):\n",
    "...\n",
    "...\n",
    "..."
   ]
  },
  {
   "cell_type": "code",
   "execution_count": null,
   "metadata": {
    "id": "qGD6L7r5gGrL"
   },
   "outputs": [],
   "source": [
    "#Find the entropy of all the features in the dataset\n",
    "#Save all the feature names in an array \"feature names\"\n",
    "feature_names=['hair','feathers','eggs','milk','airborne','aquatic','predator','toothed','backbone', \n",
    "               'breathes','venomous','fins','legs','tail','domestic','catsize']\n",
    "...\n",
    "..."
   ]
  },
  {
   "cell_type": "code",
   "execution_count": null,
   "metadata": {
    "id": "V_J9cZxf2VJ3"
   },
   "outputs": [],
   "source": [
    "#Find the entropy of the feature \"toothed\"\n",
    "...\n",
    "ans[0]="
   ]
  },
  {
   "cell_type": "code",
   "execution_count": null,
   "metadata": {
    "id": "xwVaEI7X1VFc"
   },
   "outputs": [],
   "source": [
    "#Write a function to calculate Information Gain on a split attribute and a target column\n",
    "def InfoGain(data,split_attribute_name,target_name=\"class\"):       \n",
    "    #Calculate the entropy of the total dataset  \n",
    "    ...\n",
    "    #Calculate the values and the corresponding counts for the split attribute   \n",
    "    ... \n",
    "    #Calculate the weighted entropy  \n",
    "    ...\n",
    "    #Calculate the information gain  \n",
    "    ...\n",
    "    ..."
   ]
  },
  {
   "cell_type": "code",
   "execution_count": null,
   "metadata": {
    "id": "g6Ounoj32VB0"
   },
   "outputs": [],
   "source": [
    "#Find the information gain having split attribute \"hair\" and the target feature name \"milk\"\n",
    "...\n",
    "ans[1]=..."
   ]
  },
  {
   "cell_type": "code",
   "execution_count": null,
   "metadata": {
    "id": "sRiOQRe8lL-i"
   },
   "outputs": [],
   "source": [
    "#Find the Info gain having \"milk\" as the split attribute and all the other features as target features one at a time\n",
    "..."
   ]
  },
  {
   "cell_type": "code",
   "execution_count": null,
   "metadata": {
    "id": "YFEBzgI41eeJ"
   },
   "outputs": [],
   "source": [
    "#Import Decision Tree Classifier from sklearn \n",
    "from sklearn.tree import DecisionTreeClassifier\n",
    "#Split the given data into 80 percent training data and 20 percent testing data\n",
    "...\n",
    "...\n",
    "...\n",
    "..."
   ]
  },
  {
   "cell_type": "code",
   "execution_count": null,
   "metadata": {
    "id": "AZXmFwU410JI"
   },
   "outputs": [],
   "source": [
    "#Fit the given data\n",
    "..."
   ]
  },
  {
   "cell_type": "code",
   "execution_count": null,
   "metadata": {
    "id": "aTreS7NKkFqH"
   },
   "outputs": [],
   "source": [
    "#Make a prediction on the test data and return the percentage of accuracy\n",
    "...\n",
    "...\n",
    "ans[2]="
   ]
  },
  {
   "cell_type": "code",
   "execution_count": null,
   "metadata": {
    "id": "U5YdmNcs34ZS"
   },
   "outputs": [],
   "source": [
    "#Run this cell to visualize the decision tree\n",
    "from sklearn.externals.six import StringIO  \n",
    "from IPython.display import Image  \n",
    "from sklearn.tree import export_graphviz\n",
    "import pydotplus\n",
    "\n",
    "dot_data = StringIO()\n",
    "export_graphviz(tree, out_file=dot_data, feature_names=feature_names,  \n",
    "                filled=True, rounded=True,\n",
    "                special_characters=True)\n",
    "graph = pydotplus.graph_from_dot_data(dot_data.getvalue())  \n",
    "Image(graph.create_png())"
   ]
  },
  {
   "cell_type": "code",
   "execution_count": null,
   "metadata": {
    "id": "MAHqi9VFOCJQ"
   },
   "outputs": [],
   "source": [
    "#Use sklearn to make a classification report and a confusion matrix\n",
    "from sklearn.metrics import classification_report, confusion_matrix\n",
    "...\n",
    "..."
   ]
  },
  {
   "cell_type": "code",
   "execution_count": null,
   "metadata": {
    "id": "HoMrBh0EloU9"
   },
   "outputs": [],
   "source": [
    "#Find the recall,f1-score for class type '3'\n",
    "ans[3]="
   ]
  },
  {
   "cell_type": "code",
   "execution_count": null,
   "metadata": {
    "id": "t9gD7kPvPBQj"
   },
   "outputs": [],
   "source": [
    "#Calculate Mean Absolute Error,Mean Squared Error and Root Mean Squared Error\n",
    "...\n",
    "...\n",
    "..."
   ]
  },
  {
   "cell_type": "code",
   "execution_count": null,
   "metadata": {
    "id": "tYB4hvfhk7TA"
   },
   "outputs": [],
   "source": [
    "#Find the mean absolute error and root mean square error, save then in a list [mae,rmse]\n",
    "ans[4]="
   ]
  },
  {
   "cell_type": "code",
   "execution_count": null,
   "metadata": {
    "id": "ktlLqpDqd9c1"
   },
   "outputs": [],
   "source": [
    "ans = [item for item in ans]\n",
    "with open('ans.json', 'w') as f:\n",
    "    json.dump(ans, f)\n",
    "! ../submit ans.json"
   ]
  }
 ],
 "metadata": {
  "colab": {
   "name": "unit8_Begin.ipynb",
   "provenance": []
  },
  "kernelspec": {
   "display_name": "Python 3",
   "language": "python",
   "name": "python3"
  },
  "language_info": {
   "codemirror_mode": {
    "name": "ipython",
    "version": 3
   },
   "file_extension": ".py",
   "mimetype": "text/x-python",
   "name": "python",
   "nbconvert_exporter": "python",
   "pygments_lexer": "ipython3",
   "version": "3.6.9"
  }
 },
 "nbformat": 4,
 "nbformat_minor": 1
}
